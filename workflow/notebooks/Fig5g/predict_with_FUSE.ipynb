{
 "cells": [
  {
   "cell_type": "code",
   "execution_count": 1,
   "id": "d5835f35",
   "metadata": {},
   "outputs": [],
   "source": [
    "import re\n",
    "import numpy as np\n",
    "import pandas as pd\n",
    "import scipy\n",
    "from sklearn.model_selection import cross_val_predict\n",
    "from sklearn.metrics import PredictionErrorDisplay\n",
    "import xgboost\n",
    "import matplotlib\n",
    "import matplotlib.pyplot as plt\n",
    "import seaborn as sns"
   ]
  },
  {
   "cell_type": "code",
   "execution_count": 2,
   "id": "7720e984",
   "metadata": {},
   "outputs": [],
   "source": [
    "plt.style.use('jr')\n",
    "plt.rcParams[\"pdf.use14corefonts\"] = True\n",
    "matplotlib.rcParams['pdf.fonttype'] = 42\n",
    "matplotlib.rcParams[\"axes.unicode_minus\"] = False"
   ]
  },
  {
   "cell_type": "code",
   "execution_count": 3,
   "id": "9fab0cfc",
   "metadata": {},
   "outputs": [],
   "source": [
    "pal = sns.color_palette()\n",
    "cbpal = sns.color_palette(\"colorblind\")\n",
    "clnsig_pal = {\"Pathogenic/Likely_pathogenic\":cbpal[3],\"Benign/Likely_benign\":cbpal[0], \"Conflicting\":pal[4], \"VUS\":pal[4],\"Unannotated\":cbpal[-3]}"
   ]
  },
  {
   "cell_type": "markdown",
   "id": "82e6c5f6",
   "metadata": {},
   "source": [
    "# Load data"
   ]
  },
  {
   "cell_type": "code",
   "execution_count": 5,
   "id": "741bfe56",
   "metadata": {},
   "outputs": [],
   "source": [
    "ukbb_scores = pd.read_csv('../Fig5c/TableSX_tiling_screen_UKBmerged.20230817.alpha_fixed.csv')\n",
    "fuse_scores = pd.read_csv(\"LDLR_FUSE_scores_from_BEAN_081723.csv\")\n",
    "cons_data = pd.read_excel(\"../../resources/LDLR/LDLR_DMS_dbNSFP_050522.xlsx\")"
   ]
  },
  {
   "cell_type": "code",
   "execution_count": 6,
   "id": "47012f5c",
   "metadata": {},
   "outputs": [],
   "source": [
    "cons_data = pd.read_excel(\"../../resources/LDLR/LDLR_DMS_dbNSFP_050522.xlsx\")"
   ]
  },
  {
   "cell_type": "code",
   "execution_count": 7,
   "id": "b6bde9b3",
   "metadata": {},
   "outputs": [],
   "source": [
    "aa_cons = cons_data[['aapos', 'aaref', 'aaalt', 'phyloP100way_vertebrate']].groupby(['aapos', 'aaref', 'aaalt']).mean().reset_index()"
   ]
  },
  {
   "cell_type": "code",
   "execution_count": 8,
   "id": "2f756486",
   "metadata": {},
   "outputs": [],
   "source": [
    "fuse_scores['aastr'] = fuse_scores.gene_aa_str.map(lambda s: s.split(\"---\")[-1])"
   ]
  },
  {
   "cell_type": "code",
   "execution_count": 9,
   "id": "7a7efa10",
   "metadata": {},
   "outputs": [],
   "source": [
    "ukb_annot = pd.read_csv(\"../../resources/UKBB/LDLR_FUSE_scores_from_BEAN_081123_sd05.csv\")\n",
    "\n",
    "ukb_annot[\"aastr\"] = ukb_annot.aaref + ukb_annot.aapos.map(lambda x: int(x) if not np.isnan(x) else -1).astype(str) + ukb_annot.aaalt"
   ]
  },
  {
   "cell_type": "code",
   "execution_count": 10,
   "id": "f4044aa8",
   "metadata": {},
   "outputs": [],
   "source": [
    "ukbb_scores.loc[ukbb_scores.coding == \"coding\", \"aapos\"] = ukbb_scores.loc[ukbb_scores.coding == \"coding\", \"pos\"].map(lambda s: int(s[1:]))\n",
    "ukbb_scores.loc[ukbb_scores.coding == \"coding\", \"aaref\"] = ukbb_scores.loc[ukbb_scores.coding == \"coding\", \"ref\"]\n",
    "ukbb_scores.loc[ukbb_scores.coding == \"coding\", \"aaalt\"] = ukbb_scores.loc[ukbb_scores.coding == \"coding\", \"alt\"]"
   ]
  },
  {
   "cell_type": "code",
   "execution_count": 11,
   "id": "764d357a",
   "metadata": {},
   "outputs": [],
   "source": [
    "ukbb_scores = ukbb_scores.merge(fuse_scores[[\"aastr\", \"final_score_lite\", \"final_score\"]], on=\"aastr\")"
   ]
  },
  {
   "cell_type": "code",
   "execution_count": 12,
   "id": "9cd5df04",
   "metadata": {},
   "outputs": [
    {
     "data": {
      "text/plain": [
       "Likely_pathogenic                               84\n",
       "Pathogenic/Likely_pathogenic                    35\n",
       "Conflicting_interpretations_of_pathogenicity    27\n",
       "Uncertain_significance                          16\n",
       "Pathogenic                                      12\n",
       "Likely_benign                                   10\n",
       "not_provided                                     6\n",
       "Benign                                           3\n",
       "Benign/Likely_benign                             2\n",
       "Name: ClinicalSignificance, dtype: int64"
      ]
     },
     "execution_count": 12,
     "metadata": {},
     "output_type": "execute_result"
    }
   ],
   "source": [
    "ukbb_scores.ClinicalSignificance.value_counts()"
   ]
  },
  {
   "cell_type": "code",
   "execution_count": 14,
   "id": "cdcc2307",
   "metadata": {},
   "outputs": [],
   "source": [
    "ukbb_scores[\"clinvar_annot_4\"] = \"Unannotated\"\n",
    "ukbb_scores.loc[ukbb_scores.ClinicalSignificance.isin([\"Pathogenic\", \"Likely_pathogenic\", \"Pathogenic/Likely_pathogenic\"]), \"clinvar_annot_4\"] = \"Pathogenic/Likely_pathogenic\"\n",
    "ukbb_scores.loc[ukbb_scores.ClinicalSignificance.isin([\"Benign\", \"Likely_benign\", \"Benign/Likely_benign\"]), \"clinvar_annot_4\"] = \"Benign/Likely_benign\"\n",
    "ukbb_scores.loc[ukbb_scores.ClinicalSignificance == \"Conflicting_interpretations_of_pathogenicity\", \"clinvar_annot_4\"] = \"Conflicting\"\n",
    "ukbb_scores.loc[ukbb_scores.ClinicalSignificance == \"Uncertain_significance\", \"clinvar_annot_4\"] = \"VUS\"\n",
    "ukbb_scores.loc[ukbb_scores.clinvar_annot_4.isnull(), \"clinvar_annot_4\"] = \"Unannotated\""
   ]
  },
  {
   "cell_type": "markdown",
   "id": "5e39f04e",
   "metadata": {},
   "source": [
    "## Predicting LDL-C levels in observed variants"
   ]
  },
  {
   "cell_type": "code",
   "execution_count": 15,
   "id": "924dc8c3",
   "metadata": {},
   "outputs": [],
   "source": [
    "scores_merged = ukbb_scores.loc[~ukbb_scores.mean_LDL.isnull()].merge(aa_cons, on=['aapos', 'aaref', 'aaalt'], how='left')"
   ]
  },
  {
   "cell_type": "code",
   "execution_count": 16,
   "id": "6708820c",
   "metadata": {},
   "outputs": [],
   "source": [
    "obs_df = scores_merged.loc[(~scores_merged.final_score_lite.isnull())]\n",
    "y=obs_df.mean_LDL"
   ]
  },
  {
   "cell_type": "code",
   "execution_count": 17,
   "id": "ef956e02",
   "metadata": {},
   "outputs": [
    {
     "data": {
      "text/plain": [
       "76"
      ]
     },
     "execution_count": 17,
     "metadata": {},
     "output_type": "execute_result"
    }
   ],
   "source": [
    "len(obs_df.mean_LDL)"
   ]
  },
  {
   "cell_type": "code",
   "execution_count": 18,
   "id": "9992bf7b",
   "metadata": {},
   "outputs": [],
   "source": [
    "X=obs_df[[\"final_score\", \"phyloP100way_vertebrate\"]].values\n",
    "model = xgboost.XGBRegressor()\n",
    "y_pred = cross_val_predict(model, X, y, cv=10)\n",
    "R_pea = np.corrcoef(y, y_pred)[0, 1]\n",
    "R_spe = scipy.stats.spearmanr(y, y_pred).correlation\n",
    "rmse = np.sqrt(((y-y_pred)**2).mean())\n",
    "\n",
    "X=obs_df[[\"final_score\"]].values\n",
    "model = xgboost.XGBRegressor()\n",
    "y_pred = cross_val_predict(model, X, y, cv=10)\n",
    "R_pea_fuse = np.corrcoef(y, y_pred)[0, 1]\n",
    "R_spe_fuse = scipy.stats.spearmanr(y, y_pred).correlation\n",
    "rmse_fuse = np.sqrt(((y-y_pred)**2).mean())\n",
    "\n",
    "X=obs_df[[\"phyloP100way_vertebrate\"]].values\n",
    "model = xgboost.XGBRegressor()\n",
    "y_pred = cross_val_predict(model, X, y, cv=10)\n",
    "R_pea_cons = np.corrcoef(y, y_pred)[0, 1]\n",
    "R_spe_cons = scipy.stats.spearmanr(y, y_pred).correlation\n",
    "rmse_cons = np.sqrt(((y-y_pred)**2).mean())\n",
    "\n",
    "df = pd.DataFrame({\"Spearman R\":[R_spe, R_spe_fuse, R_spe_cons], \"Pearson R\":[R_pea, R_pea_fuse, R_pea_cons], \"RMSE\":[rmse, rmse_fuse, rmse_cons]}, index=[\"FUSE+PhastCons\", \"FUSE\", \"PhastCons\"]).reset_index()"
   ]
  },
  {
   "cell_type": "code",
   "execution_count": 19,
   "id": "81285eb5",
   "metadata": {},
   "outputs": [
    {
     "data": {
      "text/html": [
       "<div>\n",
       "<style scoped>\n",
       "    .dataframe tbody tr th:only-of-type {\n",
       "        vertical-align: middle;\n",
       "    }\n",
       "\n",
       "    .dataframe tbody tr th {\n",
       "        vertical-align: top;\n",
       "    }\n",
       "\n",
       "    .dataframe thead th {\n",
       "        text-align: right;\n",
       "    }\n",
       "</style>\n",
       "<table border=\"1\" class=\"dataframe\">\n",
       "  <thead>\n",
       "    <tr style=\"text-align: right;\">\n",
       "      <th></th>\n",
       "      <th>index</th>\n",
       "      <th>Spearman R</th>\n",
       "      <th>Pearson R</th>\n",
       "      <th>RMSE</th>\n",
       "    </tr>\n",
       "  </thead>\n",
       "  <tbody>\n",
       "    <tr>\n",
       "      <th>0</th>\n",
       "      <td>FUSE+PhastCons</td>\n",
       "      <td>0.475489</td>\n",
       "      <td>0.607567</td>\n",
       "      <td>38.973442</td>\n",
       "    </tr>\n",
       "    <tr>\n",
       "      <th>1</th>\n",
       "      <td>FUSE</td>\n",
       "      <td>0.291446</td>\n",
       "      <td>0.354623</td>\n",
       "      <td>49.135357</td>\n",
       "    </tr>\n",
       "    <tr>\n",
       "      <th>2</th>\n",
       "      <td>PhastCons</td>\n",
       "      <td>0.423518</td>\n",
       "      <td>0.532479</td>\n",
       "      <td>47.235507</td>\n",
       "    </tr>\n",
       "  </tbody>\n",
       "</table>\n",
       "</div>"
      ],
      "text/plain": [
       "            index  Spearman R  Pearson R       RMSE\n",
       "0  FUSE+PhastCons    0.475489   0.607567  38.973442\n",
       "1            FUSE    0.291446   0.354623  49.135357\n",
       "2       PhastCons    0.423518   0.532479  47.235507"
      ]
     },
     "execution_count": 19,
     "metadata": {},
     "output_type": "execute_result"
    }
   ],
   "source": [
    "df"
   ]
  },
  {
   "cell_type": "code",
   "execution_count": 20,
   "id": "d40fe6c5",
   "metadata": {},
   "outputs": [
    {
     "name": "stdout",
     "output_type": "stream",
     "text": [
      "0.6075674360750101 0.4754887218045113 38.97344159363474\n"
     ]
    }
   ],
   "source": [
    "obs_df = scores_merged.loc[(~scores_merged.final_score_lite.isnull()) & (~scores_merged.mean_LDL.isnull())]\n",
    "y=obs_df.mean_LDL\n",
    "X=obs_df[[\"final_score\", \"phyloP100way_vertebrate\"]].values\n",
    "model = xgboost.XGBRegressor()\n",
    "y_pred = cross_val_predict(model, X, y, cv=10)\n",
    "R_pea = np.corrcoef(y, y_pred)[0, 1]\n",
    "R_spe = scipy.stats.spearmanr(y, y_pred).correlation\n",
    "rmse = np.sqrt(((y-y_pred)**2).mean())\n",
    "print(R_pea, R_spe, rmse)"
   ]
  },
  {
   "cell_type": "code",
   "execution_count": 21,
   "id": "66f0efb5",
   "metadata": {},
   "outputs": [
    {
     "data": {
      "image/png": "[encoded data removed]",
      "text/plain": [
       "<Figure size 648x216 with 3 Axes>"
      ]
     },
     "metadata": {
      "needs_background": "light"
     },
     "output_type": "display_data"
    }
   ],
   "source": [
    "fig, ax = plt.subplots(1,3, figsize=(9, 3), sharey=True)\n",
    "sns.barplot(df, y=\"index\", x=\"Pearson R\", ax=ax[0], orient='h')\n",
    "sns.barplot(df, y=\"index\", x=\"Spearman R\", ax=ax[1], orient='h')\n",
    "sns.barplot(df, y=\"index\", x=\"RMSE\", ax=ax[2], orient='h')\n",
    "ax[0].set_ylabel(\"\")\n",
    "ax[1].set_ylabel(\"\")\n",
    "ax[2].set_ylabel(\"\")\n",
    "plt.suptitle(\"UKB observed variant prediction (n=76, 10-fold CV)\")\n",
    "fig.savefig(\"prediction_metrics_obs.pdf\", bbox_inches=\"tight\")"
   ]
  },
  {
   "cell_type": "code",
   "execution_count": 22,
   "id": "34a8352c",
   "metadata": {},
   "outputs": [],
   "source": [
    "X=obs_df[[\"final_score\", \"phyloP100way_vertebrate\"]].values\n",
    "model = xgboost.XGBRegressor()\n",
    "y_pred = cross_val_predict(model, X, y, cv=10)"
   ]
  },
  {
   "cell_type": "code",
   "execution_count": 23,
   "id": "d2c2da06",
   "metadata": {},
   "outputs": [],
   "source": [
    "obs_df['y_pred'] = y_pred\n",
    "scores_merged.loc[(~scores_merged.final_score_lite.isnull()) & (~scores_merged.mean_LDL.isnull()), \"y_pred_obs\"] = y_pred"
   ]
  },
  {
   "cell_type": "code",
   "execution_count": 25,
   "id": "c83a2e04",
   "metadata": {},
   "outputs": [
    {
     "data": {
      "image/png": "[encoded data removed]",
      "text/plain": [
       "<Figure size 360x360 with 1 Axes>"
      ]
     },
     "metadata": {},
     "output_type": "display_data"
    }
   ],
   "source": [
    "plt.style.use('jr')\n",
    "fig, ax = plt.subplots(figsize=(5,5))\n",
    "\n",
    "pdf = obs_df\n",
    "\n",
    "ycol = 'y_pred'\n",
    "sns.scatterplot(pdf, x = 'mean_LDL', y = ycol, ax = ax, hue = \"clinvar_annot_4\", palette = clnsig_pal, legend=False, s = 70)\n",
    "ax.text(0.6, 0.03, f\"R_Spe={pdf[['mean_LDL', ycol]].corr('spearman').iloc[0, 1]:.3f}\", transform = ax.transAxes)\n",
    "ax.text(0.6, 0.1, f\"R_Pea={pdf[['mean_LDL', ycol]].corr().iloc[0, 1]:.3f}\", transform = ax.transAxes)\n",
    "ax.text(0.6, 0.17, f\"RMSE={np.sqrt(((y-y_pred)**2).mean()):.2f}\", transform = ax.transAxes)\n",
    "ax.set_ylabel(\"Predicted\\ny ~ BEAN-FUSE + PhyloP\")\n",
    "\n",
    "xpt = np.arange(pdf[['mean_LDL', 'y_pred']].min().min(), pdf[['mean_LDL', 'y_pred']].max().max(), 10)\n",
    "ax.plot(xpt, xpt, linestyle = '--', color='grey', label='x=y')\n",
    "ax.set_xlim((pdf[['mean_LDL', 'y_pred']].min().min()-5, pdf[['mean_LDL', 'y_pred']].max().max()+5))\n",
    "ax.set_ylim((pdf[['mean_LDL', 'y_pred']].min().min()-5, pdf[['mean_LDL', 'y_pred']].max().max()+5))\n",
    "ax.legend()\n",
    "plt.tight_layout()\n",
    "ax.set_xlabel(\"x = Statin-adjusted LDL-C (mg/dL)\")\n",
    "ax.set_box_aspect(1)\n",
    "sns.despine(top=True, right=True)\n",
    "#fig.savefig(\"5i_predict_with_fuse_phylop_v3.pdf\", bbox_inches=\"tight\")"
   ]
  },
  {
   "cell_type": "code",
   "execution_count": 26,
   "id": "83ebec80",
   "metadata": {},
   "outputs": [],
   "source": [
    "pdf.to_csv(\"k_pred_df.csv\")"
   ]
  },
  {
   "cell_type": "markdown",
   "id": "db5dcc16",
   "metadata": {},
   "source": [
    "## Predicting unobserved variants' LDL-C level"
   ]
  },
  {
   "cell_type": "code",
   "execution_count": 31,
   "id": "9973c439",
   "metadata": {},
   "outputs": [],
   "source": [
    "fuse_imputation = pd.read_csv(\"../../resources/UKBB/LDLR_UKBpatient_variants_meanLDL_functional_scores_clinvar_082223.csv\")"
   ]
  },
  {
   "cell_type": "code",
   "execution_count": 32,
   "id": "3975317a",
   "metadata": {},
   "outputs": [],
   "source": [
    "fuse_imputation[\"clinvar_annot_4\"] = \"Unannotated\"\n",
    "fuse_imputation.loc[fuse_imputation.ClinicalSignificance.isin([\"Pathogenic\", \"Likely pathogenic\", \"Pathogenic/Likely pathogenic\"]), \"clinvar_annot_4\"] = \"Pathogenic/Likely_pathogenic\"\n",
    "fuse_imputation.loc[fuse_imputation.ClinicalSignificance.isin([\"Benign\", \"Likely benign\", \"Benign/Likely benign\"]), \"clinvar_annot_4\"] = \"Benign/Likely_benign\"\n",
    "fuse_imputation.loc[fuse_imputation.ClinicalSignificance == \"Conflicting interpretations of pathogenicity\", \"clinvar_annot_4\"] = \"Conflicting\"\n",
    "fuse_imputation.loc[fuse_imputation.ClinicalSignificance == \"Uncertain significance\", \"clinvar_annot_4\"] = \"VUS\"\n",
    "fuse_imputation.loc[fuse_imputation.clinvar_annot_4.isnull(), \"clinvar_annot_4\"] = \"Unannotated\""
   ]
  },
  {
   "cell_type": "code",
   "execution_count": 33,
   "id": "27371e07",
   "metadata": {
    "scrolled": true
   },
   "outputs": [
    {
     "data": {
      "text/html": [
       "<div>\n",
       "<style scoped>\n",
       "    .dataframe tbody tr th:only-of-type {\n",
       "        vertical-align: middle;\n",
       "    }\n",
       "\n",
       "    .dataframe tbody tr th {\n",
       "        vertical-align: top;\n",
       "    }\n",
       "\n",
       "    .dataframe thead th {\n",
       "        text-align: right;\n",
       "    }\n",
       "</style>\n",
       "<table border=\"1\" class=\"dataframe\">\n",
       "  <thead>\n",
       "    <tr style=\"text-align: right;\">\n",
       "      <th></th>\n",
       "      <th>variant</th>\n",
       "      <th>aapos</th>\n",
       "      <th>aaref</th>\n",
       "      <th>aaalt</th>\n",
       "      <th>norm_raw_score</th>\n",
       "      <th>final_score_lite</th>\n",
       "      <th>final_score</th>\n",
       "      <th>mean_LDL</th>\n",
       "      <th>ClinicalSignificance</th>\n",
       "      <th>clinvar_annot_4</th>\n",
       "    </tr>\n",
       "  </thead>\n",
       "  <tbody>\n",
       "    <tr>\n",
       "      <th>0</th>\n",
       "      <td>19-11100226-G-A</td>\n",
       "      <td>24</td>\n",
       "      <td>G</td>\n",
       "      <td>D</td>\n",
       "      <td>NaN</td>\n",
       "      <td>NaN</td>\n",
       "      <td>NaN</td>\n",
       "      <td>144.973000</td>\n",
       "      <td>NaN</td>\n",
       "      <td>Unannotated</td>\n",
       "    </tr>\n",
       "    <tr>\n",
       "      <th>1</th>\n",
       "      <td>19-11100228-G-A</td>\n",
       "      <td>25</td>\n",
       "      <td>D</td>\n",
       "      <td>N</td>\n",
       "      <td>NaN</td>\n",
       "      <td>NaN</td>\n",
       "      <td>0.223872</td>\n",
       "      <td>135.116196</td>\n",
       "      <td>Uncertain significance</td>\n",
       "      <td>VUS</td>\n",
       "    </tr>\n",
       "    <tr>\n",
       "      <th>2</th>\n",
       "      <td>19-11100236-C-G</td>\n",
       "      <td>27</td>\n",
       "      <td>C</td>\n",
       "      <td>W</td>\n",
       "      <td>NaN</td>\n",
       "      <td>NaN</td>\n",
       "      <td>1.555278</td>\n",
       "      <td>229.801667</td>\n",
       "      <td>Pathogenic</td>\n",
       "      <td>Pathogenic/Likely_pathogenic</td>\n",
       "    </tr>\n",
       "    <tr>\n",
       "      <th>3</th>\n",
       "      <td>19-11100237-G-A</td>\n",
       "      <td>28</td>\n",
       "      <td>E</td>\n",
       "      <td>K</td>\n",
       "      <td>NaN</td>\n",
       "      <td>NaN</td>\n",
       "      <td>0.325243</td>\n",
       "      <td>154.389000</td>\n",
       "      <td>Uncertain significance</td>\n",
       "      <td>VUS</td>\n",
       "    </tr>\n",
       "    <tr>\n",
       "      <th>4</th>\n",
       "      <td>19-11100241-G-C</td>\n",
       "      <td>29</td>\n",
       "      <td>R</td>\n",
       "      <td>T</td>\n",
       "      <td>NaN</td>\n",
       "      <td>NaN</td>\n",
       "      <td>0.206866</td>\n",
       "      <td>137.240500</td>\n",
       "      <td>NaN</td>\n",
       "      <td>Unannotated</td>\n",
       "    </tr>\n",
       "    <tr>\n",
       "      <th>...</th>\n",
       "      <td>...</td>\n",
       "      <td>...</td>\n",
       "      <td>...</td>\n",
       "      <td>...</td>\n",
       "      <td>...</td>\n",
       "      <td>...</td>\n",
       "      <td>...</td>\n",
       "      <td>...</td>\n",
       "      <td>...</td>\n",
       "      <td>...</td>\n",
       "    </tr>\n",
       "    <tr>\n",
       "      <th>457</th>\n",
       "      <td>19-11131293-A-G</td>\n",
       "      <td>854</td>\n",
       "      <td>S</td>\n",
       "      <td>G</td>\n",
       "      <td>0.273426</td>\n",
       "      <td>0.183435</td>\n",
       "      <td>0.183435</td>\n",
       "      <td>100.773000</td>\n",
       "      <td>Uncertain significance</td>\n",
       "      <td>VUS</td>\n",
       "    </tr>\n",
       "    <tr>\n",
       "      <th>458</th>\n",
       "      <td>19-11131296-C-A</td>\n",
       "      <td>855</td>\n",
       "      <td>L</td>\n",
       "      <td>M</td>\n",
       "      <td>NaN</td>\n",
       "      <td>NaN</td>\n",
       "      <td>0.061666</td>\n",
       "      <td>135.035000</td>\n",
       "      <td>Uncertain significance</td>\n",
       "      <td>VUS</td>\n",
       "    </tr>\n",
       "    <tr>\n",
       "      <th>459</th>\n",
       "      <td>19-11131299-G-C</td>\n",
       "      <td>856</td>\n",
       "      <td>E</td>\n",
       "      <td>Q</td>\n",
       "      <td>NaN</td>\n",
       "      <td>NaN</td>\n",
       "      <td>-0.217866</td>\n",
       "      <td>141.879000</td>\n",
       "      <td>NaN</td>\n",
       "      <td>Unannotated</td>\n",
       "    </tr>\n",
       "    <tr>\n",
       "      <th>460</th>\n",
       "      <td>19-11131308-G-A</td>\n",
       "      <td>859</td>\n",
       "      <td>V</td>\n",
       "      <td>M</td>\n",
       "      <td>NaN</td>\n",
       "      <td>NaN</td>\n",
       "      <td>0.156254</td>\n",
       "      <td>149.949406</td>\n",
       "      <td>Likely benign</td>\n",
       "      <td>Benign/Likely_benign</td>\n",
       "    </tr>\n",
       "    <tr>\n",
       "      <th>461</th>\n",
       "      <td>19-11131312-C-T</td>\n",
       "      <td>860</td>\n",
       "      <td>A</td>\n",
       "      <td>V</td>\n",
       "      <td>NaN</td>\n",
       "      <td>NaN</td>\n",
       "      <td>NaN</td>\n",
       "      <td>136.696706</td>\n",
       "      <td>Conflicting interpretations of pathogenicity</td>\n",
       "      <td>Conflicting</td>\n",
       "    </tr>\n",
       "  </tbody>\n",
       "</table>\n",
       "<p>462 rows × 10 columns</p>\n",
       "</div>"
      ],
      "text/plain": [
       "             variant  aapos aaref aaalt  norm_raw_score  final_score_lite  \\\n",
       "0    19-11100226-G-A     24     G     D             NaN               NaN   \n",
       "1    19-11100228-G-A     25     D     N             NaN               NaN   \n",
       "2    19-11100236-C-G     27     C     W             NaN               NaN   \n",
       "3    19-11100237-G-A     28     E     K             NaN               NaN   \n",
       "4    19-11100241-G-C     29     R     T             NaN               NaN   \n",
       "..               ...    ...   ...   ...             ...               ...   \n",
       "457  19-11131293-A-G    854     S     G        0.273426          0.183435   \n",
       "458  19-11131296-C-A    855     L     M             NaN               NaN   \n",
       "459  19-11131299-G-C    856     E     Q             NaN               NaN   \n",
       "460  19-11131308-G-A    859     V     M             NaN               NaN   \n",
       "461  19-11131312-C-T    860     A     V             NaN               NaN   \n",
       "\n",
       "     final_score    mean_LDL                          ClinicalSignificance  \\\n",
       "0            NaN  144.973000                                           NaN   \n",
       "1       0.223872  135.116196                        Uncertain significance   \n",
       "2       1.555278  229.801667                                    Pathogenic   \n",
       "3       0.325243  154.389000                        Uncertain significance   \n",
       "4       0.206866  137.240500                                           NaN   \n",
       "..           ...         ...                                           ...   \n",
       "457     0.183435  100.773000                        Uncertain significance   \n",
       "458     0.061666  135.035000                        Uncertain significance   \n",
       "459    -0.217866  141.879000                                           NaN   \n",
       "460     0.156254  149.949406                                 Likely benign   \n",
       "461          NaN  136.696706  Conflicting interpretations of pathogenicity   \n",
       "\n",
       "                  clinvar_annot_4  \n",
       "0                     Unannotated  \n",
       "1                             VUS  \n",
       "2    Pathogenic/Likely_pathogenic  \n",
       "3                             VUS  \n",
       "4                     Unannotated  \n",
       "..                            ...  \n",
       "457                           VUS  \n",
       "458                           VUS  \n",
       "459                   Unannotated  \n",
       "460          Benign/Likely_benign  \n",
       "461                   Conflicting  \n",
       "\n",
       "[462 rows x 10 columns]"
      ]
     },
     "execution_count": 33,
     "metadata": {},
     "output_type": "execute_result"
    }
   ],
   "source": [
    "fuse_imputation"
   ]
  },
  {
   "cell_type": "code",
   "execution_count": 34,
   "id": "be7b2abf",
   "metadata": {},
   "outputs": [],
   "source": [
    "fuse_imputation = fuse_imputation.merge(aa_cons, on=['aapos', 'aaref', 'aaalt'], how='left')"
   ]
  },
  {
   "cell_type": "code",
   "execution_count": 35,
   "id": "16edd281",
   "metadata": {},
   "outputs": [
    {
     "data": {
      "text/plain": [
       "282"
      ]
     },
     "execution_count": 35,
     "metadata": {},
     "output_type": "execute_result"
    }
   ],
   "source": [
    "unobs_df = fuse_imputation.loc[(fuse_imputation.final_score_lite.isnull()) & (~fuse_imputation.final_score.isnull()) ]\n",
    "len(unobs_df)"
   ]
  },
  {
   "cell_type": "code",
   "execution_count": 74,
   "id": "59a33a31",
   "metadata": {},
   "outputs": [
    {
     "data": {
      "text/html": [
       "<div>\n",
       "<style scoped>\n",
       "    .dataframe tbody tr th:only-of-type {\n",
       "        vertical-align: middle;\n",
       "    }\n",
       "\n",
       "    .dataframe tbody tr th {\n",
       "        vertical-align: top;\n",
       "    }\n",
       "\n",
       "    .dataframe thead th {\n",
       "        text-align: right;\n",
       "    }\n",
       "</style>\n",
       "<table border=\"1\" class=\"dataframe\">\n",
       "  <thead>\n",
       "    <tr style=\"text-align: right;\">\n",
       "      <th></th>\n",
       "      <th>variant</th>\n",
       "      <th>aapos</th>\n",
       "      <th>aaref</th>\n",
       "      <th>aaalt</th>\n",
       "      <th>norm_raw_score</th>\n",
       "      <th>final_score_lite</th>\n",
       "      <th>final_score</th>\n",
       "      <th>mean_LDL</th>\n",
       "      <th>ClinicalSignificance</th>\n",
       "      <th>clinvar_annot_4</th>\n",
       "      <th>phyloP100way_vertebrate</th>\n",
       "    </tr>\n",
       "  </thead>\n",
       "  <tbody>\n",
       "    <tr>\n",
       "      <th>1</th>\n",
       "      <td>19-11100228-G-A</td>\n",
       "      <td>25</td>\n",
       "      <td>D</td>\n",
       "      <td>N</td>\n",
       "      <td>NaN</td>\n",
       "      <td>NaN</td>\n",
       "      <td>0.223872</td>\n",
       "      <td>135.116196</td>\n",
       "      <td>Uncertain significance</td>\n",
       "      <td>VUS</td>\n",
       "      <td>0.690</td>\n",
       "    </tr>\n",
       "    <tr>\n",
       "      <th>2</th>\n",
       "      <td>19-11100236-C-G</td>\n",
       "      <td>27</td>\n",
       "      <td>C</td>\n",
       "      <td>W</td>\n",
       "      <td>NaN</td>\n",
       "      <td>NaN</td>\n",
       "      <td>1.555278</td>\n",
       "      <td>229.801667</td>\n",
       "      <td>Pathogenic</td>\n",
       "      <td>Pathogenic/Likely_pathogenic</td>\n",
       "      <td>-0.152</td>\n",
       "    </tr>\n",
       "    <tr>\n",
       "      <th>3</th>\n",
       "      <td>19-11100237-G-A</td>\n",
       "      <td>28</td>\n",
       "      <td>E</td>\n",
       "      <td>K</td>\n",
       "      <td>NaN</td>\n",
       "      <td>NaN</td>\n",
       "      <td>0.325243</td>\n",
       "      <td>154.389000</td>\n",
       "      <td>Uncertain significance</td>\n",
       "      <td>VUS</td>\n",
       "      <td>0.342</td>\n",
       "    </tr>\n",
       "    <tr>\n",
       "      <th>4</th>\n",
       "      <td>19-11100241-G-C</td>\n",
       "      <td>29</td>\n",
       "      <td>R</td>\n",
       "      <td>T</td>\n",
       "      <td>NaN</td>\n",
       "      <td>NaN</td>\n",
       "      <td>0.206866</td>\n",
       "      <td>137.240500</td>\n",
       "      <td>NaN</td>\n",
       "      <td>Unannotated</td>\n",
       "      <td>1.798</td>\n",
       "    </tr>\n",
       "    <tr>\n",
       "      <th>5</th>\n",
       "      <td>19-11100241-G-T</td>\n",
       "      <td>29</td>\n",
       "      <td>R</td>\n",
       "      <td>I</td>\n",
       "      <td>NaN</td>\n",
       "      <td>NaN</td>\n",
       "      <td>0.247299</td>\n",
       "      <td>143.503000</td>\n",
       "      <td>NaN</td>\n",
       "      <td>Unannotated</td>\n",
       "      <td>1.798</td>\n",
       "    </tr>\n",
       "    <tr>\n",
       "      <th>...</th>\n",
       "      <td>...</td>\n",
       "      <td>...</td>\n",
       "      <td>...</td>\n",
       "      <td>...</td>\n",
       "      <td>...</td>\n",
       "      <td>...</td>\n",
       "      <td>...</td>\n",
       "      <td>...</td>\n",
       "      <td>...</td>\n",
       "      <td>...</td>\n",
       "      <td>...</td>\n",
       "    </tr>\n",
       "    <tr>\n",
       "      <th>455</th>\n",
       "      <td>19-11131289-G-C</td>\n",
       "      <td>852</td>\n",
       "      <td>M</td>\n",
       "      <td>I</td>\n",
       "      <td>NaN</td>\n",
       "      <td>NaN</td>\n",
       "      <td>0.118998</td>\n",
       "      <td>123.473000</td>\n",
       "      <td>NaN</td>\n",
       "      <td>Unannotated</td>\n",
       "      <td>1.628</td>\n",
       "    </tr>\n",
       "    <tr>\n",
       "      <th>456</th>\n",
       "      <td>19-11131289-G-T</td>\n",
       "      <td>852</td>\n",
       "      <td>M</td>\n",
       "      <td>I</td>\n",
       "      <td>NaN</td>\n",
       "      <td>NaN</td>\n",
       "      <td>0.118998</td>\n",
       "      <td>142.958714</td>\n",
       "      <td>NaN</td>\n",
       "      <td>Unannotated</td>\n",
       "      <td>1.628</td>\n",
       "    </tr>\n",
       "    <tr>\n",
       "      <th>458</th>\n",
       "      <td>19-11131296-C-A</td>\n",
       "      <td>855</td>\n",
       "      <td>L</td>\n",
       "      <td>M</td>\n",
       "      <td>NaN</td>\n",
       "      <td>NaN</td>\n",
       "      <td>0.061666</td>\n",
       "      <td>135.035000</td>\n",
       "      <td>Uncertain significance</td>\n",
       "      <td>VUS</td>\n",
       "      <td>0.640</td>\n",
       "    </tr>\n",
       "    <tr>\n",
       "      <th>459</th>\n",
       "      <td>19-11131299-G-C</td>\n",
       "      <td>856</td>\n",
       "      <td>E</td>\n",
       "      <td>Q</td>\n",
       "      <td>NaN</td>\n",
       "      <td>NaN</td>\n",
       "      <td>-0.217866</td>\n",
       "      <td>141.879000</td>\n",
       "      <td>NaN</td>\n",
       "      <td>Unannotated</td>\n",
       "      <td>7.346</td>\n",
       "    </tr>\n",
       "    <tr>\n",
       "      <th>460</th>\n",
       "      <td>19-11131308-G-A</td>\n",
       "      <td>859</td>\n",
       "      <td>V</td>\n",
       "      <td>M</td>\n",
       "      <td>NaN</td>\n",
       "      <td>NaN</td>\n",
       "      <td>0.156254</td>\n",
       "      <td>149.949406</td>\n",
       "      <td>Likely benign</td>\n",
       "      <td>Benign/Likely_benign</td>\n",
       "      <td>0.542</td>\n",
       "    </tr>\n",
       "  </tbody>\n",
       "</table>\n",
       "<p>282 rows × 11 columns</p>\n",
       "</div>"
      ],
      "text/plain": [
       "             variant  aapos aaref aaalt  norm_raw_score  final_score_lite  \\\n",
       "1    19-11100228-G-A     25     D     N             NaN               NaN   \n",
       "2    19-11100236-C-G     27     C     W             NaN               NaN   \n",
       "3    19-11100237-G-A     28     E     K             NaN               NaN   \n",
       "4    19-11100241-G-C     29     R     T             NaN               NaN   \n",
       "5    19-11100241-G-T     29     R     I             NaN               NaN   \n",
       "..               ...    ...   ...   ...             ...               ...   \n",
       "455  19-11131289-G-C    852     M     I             NaN               NaN   \n",
       "456  19-11131289-G-T    852     M     I             NaN               NaN   \n",
       "458  19-11131296-C-A    855     L     M             NaN               NaN   \n",
       "459  19-11131299-G-C    856     E     Q             NaN               NaN   \n",
       "460  19-11131308-G-A    859     V     M             NaN               NaN   \n",
       "\n",
       "     final_score    mean_LDL    ClinicalSignificance  \\\n",
       "1       0.223872  135.116196  Uncertain significance   \n",
       "2       1.555278  229.801667              Pathogenic   \n",
       "3       0.325243  154.389000  Uncertain significance   \n",
       "4       0.206866  137.240500                     NaN   \n",
       "5       0.247299  143.503000                     NaN   \n",
       "..           ...         ...                     ...   \n",
       "455     0.118998  123.473000                     NaN   \n",
       "456     0.118998  142.958714                     NaN   \n",
       "458     0.061666  135.035000  Uncertain significance   \n",
       "459    -0.217866  141.879000                     NaN   \n",
       "460     0.156254  149.949406           Likely benign   \n",
       "\n",
       "                  clinvar_annot_4  phyloP100way_vertebrate  \n",
       "1                             VUS                    0.690  \n",
       "2    Pathogenic/Likely_pathogenic                   -0.152  \n",
       "3                             VUS                    0.342  \n",
       "4                     Unannotated                    1.798  \n",
       "5                     Unannotated                    1.798  \n",
       "..                            ...                      ...  \n",
       "455                   Unannotated                    1.628  \n",
       "456                   Unannotated                    1.628  \n",
       "458                           VUS                    0.640  \n",
       "459                   Unannotated                    7.346  \n",
       "460          Benign/Likely_benign                    0.542  \n",
       "\n",
       "[282 rows x 11 columns]"
      ]
     },
     "execution_count": 74,
     "metadata": {},
     "output_type": "execute_result"
    }
   ],
   "source": [
    "unobs_df"
   ]
  },
  {
   "cell_type": "code",
   "execution_count": 75,
   "id": "055ed997",
   "metadata": {},
   "outputs": [
    {
     "name": "stderr",
     "output_type": "stream",
     "text": [
      "<ipython-input-75-0c249b62a973>:6: SettingWithCopyWarning: \n",
      "A value is trying to be set on a copy of a slice from a DataFrame.\n",
      "Try using .loc[row_indexer,col_indexer] = value instead\n",
      "\n",
      "See the caveats in the documentation: https://pandas.pydata.org/pandas-docs/stable/user_guide/indexing.html#returning-a-view-versus-a-copy\n",
      "  unobs_df[\"y_unobs_pred\"] = y_pred\n"
     ]
    }
   ],
   "source": [
    "y = obs_df.mean_LDL\n",
    "X = obs_df[[\"final_score\", \"phyloP100way_vertebrate\"]].values\n",
    "model = xgboost.XGBRegressor()\n",
    "model.fit(X, y)\n",
    "y_pred = model.predict(unobs_df[[\"final_score\", \"phyloP100way_vertebrate\"]].values)\n",
    "unobs_df[\"y_unobs_pred\"] = y_pred\n",
    "fuse_imputation.loc[(fuse_imputation.final_score_lite.isnull()) & (~fuse_imputation.final_score.isnull()), \"y_pred_unobs\"] = y_pred"
   ]
  },
  {
   "cell_type": "code",
   "execution_count": 76,
   "id": "a6a62b2f",
   "metadata": {},
   "outputs": [],
   "source": [
    "y = obs_df.mean_LDL\n",
    "y_true = unobs_df.mean_LDL\n",
    "X=obs_df[[\"final_score\", \"phyloP100way_vertebrate\"]].values\n",
    "model = xgboost.XGBRegressor()\n",
    "model.fit(X, y)\n",
    "y_pred = model.predict(unobs_df[[\"final_score\", \"phyloP100way_vertebrate\"]].values)\n",
    "R_pea = np.corrcoef(y_true, y_pred)[0, 1]\n",
    "R_spe = scipy.stats.spearmanr(y_true, y_pred).correlation\n",
    "rmse = np.sqrt(((y_true-y_pred)**2).mean())\n",
    "\n",
    "X=obs_df[[\"final_score\"]].values\n",
    "model = xgboost.XGBRegressor()\n",
    "model.fit(X, y)\n",
    "y_pred = model.predict(unobs_df[[\"final_score\"]].values)\n",
    "R_pea_fuse = np.corrcoef(y_true, y_pred)[0, 1]\n",
    "R_spe_fuse = scipy.stats.spearmanr(y_true, y_pred).correlation\n",
    "rmse_fuse = np.sqrt(((y_true-y_pred)**2).mean())\n",
    "\n",
    "X=obs_df[[\"phyloP100way_vertebrate\"]].values\n",
    "model = xgboost.XGBRegressor()\n",
    "model.fit(X, y)\n",
    "y_pred = model.predict(unobs_df[[\"phyloP100way_vertebrate\"]].values)\n",
    "R_pea_cons = np.corrcoef(y_true, y_pred)[0, 1]\n",
    "R_spe_cons = scipy.stats.spearmanr(y_true, y_pred, nan_policy=\"omit\").correlation\n",
    "rmse_cons = np.sqrt(((y_true-y_pred)**2).mean())\n",
    "\n",
    "df_unobs = pd.DataFrame({\"Spearman R\":[R_spe, R_spe_fuse, R_spe_cons], \"Pearson R\":[R_pea, R_pea_fuse, R_pea_cons], \"RMSE\":[rmse, rmse_fuse, rmse_cons]}, index=[\"FUSE+PhastCons\", \"FUSE\", \"PhastCons\"]).reset_index()"
   ]
  },
  {
   "cell_type": "code",
   "execution_count": 77,
   "id": "b3d7426a",
   "metadata": {},
   "outputs": [
    {
     "data": {
      "text/plain": [
       "1      135.116196\n",
       "2      229.801667\n",
       "3      154.389000\n",
       "4      137.240500\n",
       "5      143.503000\n",
       "          ...    \n",
       "455    123.473000\n",
       "456    142.958714\n",
       "458    135.035000\n",
       "459    141.879000\n",
       "460    149.949406\n",
       "Name: mean_LDL, Length: 282, dtype: float64"
      ]
     },
     "execution_count": 77,
     "metadata": {},
     "output_type": "execute_result"
    }
   ],
   "source": [
    "y_true"
   ]
  },
  {
   "cell_type": "code",
   "execution_count": 78,
   "id": "32a4b2b9",
   "metadata": {},
   "outputs": [
    {
     "data": {
      "image/png": "[encoded data removed]",
      "text/plain": [
       "<Figure size 648x216 with 3 Axes>"
      ]
     },
     "metadata": {},
     "output_type": "display_data"
    }
   ],
   "source": [
    "fig, ax = plt.subplots(1,3, figsize=(9, 3), sharey=True)\n",
    "sns.barplot(df_unobs, y=\"index\", x=\"Pearson R\", ax=ax[0], orient='h')\n",
    "sns.barplot(df_unobs, y=\"index\", x=\"Spearman R\", ax=ax[1], orient='h')\n",
    "sns.barplot(df_unobs, y=\"index\", x=\"RMSE\", ax=ax[2], orient='h')\n",
    "ax[0].set_ylabel(\"\")\n",
    "ax[1].set_ylabel(\"\")\n",
    "ax[2].set_ylabel(\"\")\n",
    "plt.suptitle(\"UKB unobserved variant prediction (n=268)\")\n",
    "fig.savefig(\"prediction_metrics_unobs.pdf\", bbox_inches=\"tight\")"
   ]
  },
  {
   "cell_type": "code",
   "execution_count": 79,
   "id": "ca2ddc76",
   "metadata": {},
   "outputs": [
    {
     "data": {
      "text/html": [
       "<div>\n",
       "<style scoped>\n",
       "    .dataframe tbody tr th:only-of-type {\n",
       "        vertical-align: middle;\n",
       "    }\n",
       "\n",
       "    .dataframe tbody tr th {\n",
       "        vertical-align: top;\n",
       "    }\n",
       "\n",
       "    .dataframe thead th {\n",
       "        text-align: right;\n",
       "    }\n",
       "</style>\n",
       "<table border=\"1\" class=\"dataframe\">\n",
       "  <thead>\n",
       "    <tr style=\"text-align: right;\">\n",
       "      <th></th>\n",
       "      <th>Spearman R_obs</th>\n",
       "      <th>Pearson R_obs</th>\n",
       "      <th>RMSE_obs</th>\n",
       "      <th>Spearman R_unobs</th>\n",
       "      <th>Pearson R_unobs</th>\n",
       "      <th>RMSE_unobs</th>\n",
       "    </tr>\n",
       "    <tr>\n",
       "      <th>index</th>\n",
       "      <th></th>\n",
       "      <th></th>\n",
       "      <th></th>\n",
       "      <th></th>\n",
       "      <th></th>\n",
       "      <th></th>\n",
       "    </tr>\n",
       "  </thead>\n",
       "  <tbody>\n",
       "    <tr>\n",
       "      <th>FUSE+PhastCons</th>\n",
       "      <td>0.475489</td>\n",
       "      <td>0.607567</td>\n",
       "      <td>38.973442</td>\n",
       "      <td>0.373950</td>\n",
       "      <td>0.309709</td>\n",
       "      <td>51.091960</td>\n",
       "    </tr>\n",
       "    <tr>\n",
       "      <th>FUSE</th>\n",
       "      <td>0.291446</td>\n",
       "      <td>0.354623</td>\n",
       "      <td>49.135357</td>\n",
       "      <td>0.271176</td>\n",
       "      <td>0.244550</td>\n",
       "      <td>59.930363</td>\n",
       "    </tr>\n",
       "    <tr>\n",
       "      <th>PhastCons</th>\n",
       "      <td>0.423518</td>\n",
       "      <td>0.532479</td>\n",
       "      <td>47.235507</td>\n",
       "      <td>0.207314</td>\n",
       "      <td>0.213139</td>\n",
       "      <td>56.111415</td>\n",
       "    </tr>\n",
       "  </tbody>\n",
       "</table>\n",
       "</div>"
      ],
      "text/plain": [
       "                Spearman R_obs  Pearson R_obs   RMSE_obs  Spearman R_unobs  \\\n",
       "index                                                                        \n",
       "FUSE+PhastCons        0.475489       0.607567  38.973442          0.373950   \n",
       "FUSE                  0.291446       0.354623  49.135357          0.271176   \n",
       "PhastCons             0.423518       0.532479  47.235507          0.207314   \n",
       "\n",
       "                Pearson R_unobs  RMSE_unobs  \n",
       "index                                        \n",
       "FUSE+PhastCons         0.309709   51.091960  \n",
       "FUSE                   0.244550   59.930363  \n",
       "PhastCons              0.213139   56.111415  "
      ]
     },
     "execution_count": 79,
     "metadata": {},
     "output_type": "execute_result"
    }
   ],
   "source": [
    "metric_df = df.set_index(\"index\").join(df_unobs.set_index(\"index\"), lsuffix=\"_obs\", rsuffix=\"_unobs\")\n",
    "metric_df.to_csv(\"SX_prediction_metrics.csv\")\n",
    "metric_df"
   ]
  },
  {
   "cell_type": "code",
   "execution_count": 36,
   "id": "54834a0b",
   "metadata": {},
   "outputs": [
    {
     "data": {
      "text/html": [
       "<style>#sk-container-id-1 {color: black;}#sk-container-id-1 pre{padding: 0;}#sk-container-id-1 div.sk-toggleable {background-color: white;}#sk-container-id-1 label.sk-toggleable__label {cursor: pointer;display: block;width: 100%;margin-bottom: 0;padding: 0.3em;box-sizing: border-box;text-align: center;}#sk-container-id-1 label.sk-toggleable__label-arrow:before {content: \"▸\";float: left;margin-right: 0.25em;color: #696969;}#sk-container-id-1 label.sk-toggleable__label-arrow:hover:before {color: black;}#sk-container-id-1 div.sk-estimator:hover label.sk-toggleable__label-arrow:before {color: black;}#sk-container-id-1 div.sk-toggleable__content {max-height: 0;max-width: 0;overflow: hidden;text-align: left;background-color: #f0f8ff;}#sk-container-id-1 div.sk-toggleable__content pre {margin: 0.2em;color: black;border-radius: 0.25em;background-color: #f0f8ff;}#sk-container-id-1 input.sk-toggleable__control:checked~div.sk-toggleable__content {max-height: 200px;max-width: 100%;overflow: auto;}#sk-container-id-1 input.sk-toggleable__control:checked~label.sk-toggleable__label-arrow:before {content: \"▾\";}#sk-container-id-1 div.sk-estimator input.sk-toggleable__control:checked~label.sk-toggleable__label {background-color: #d4ebff;}#sk-container-id-1 div.sk-label input.sk-toggleable__control:checked~label.sk-toggleable__label {background-color: #d4ebff;}#sk-container-id-1 input.sk-hidden--visually {border: 0;clip: rect(1px 1px 1px 1px);clip: rect(1px, 1px, 1px, 1px);height: 1px;margin: -1px;overflow: hidden;padding: 0;position: absolute;width: 1px;}#sk-container-id-1 div.sk-estimator {font-family: monospace;background-color: #f0f8ff;border: 1px dotted black;border-radius: 0.25em;box-sizing: border-box;margin-bottom: 0.5em;}#sk-container-id-1 div.sk-estimator:hover {background-color: #d4ebff;}#sk-container-id-1 div.sk-parallel-item::after {content: \"\";width: 100%;border-bottom: 1px solid gray;flex-grow: 1;}#sk-container-id-1 div.sk-label:hover label.sk-toggleable__label {background-color: #d4ebff;}#sk-container-id-1 div.sk-serial::before {content: \"\";position: absolute;border-left: 1px solid gray;box-sizing: border-box;top: 0;bottom: 0;left: 50%;z-index: 0;}#sk-container-id-1 div.sk-serial {display: flex;flex-direction: column;align-items: center;background-color: white;padding-right: 0.2em;padding-left: 0.2em;position: relative;}#sk-container-id-1 div.sk-item {position: relative;z-index: 1;}#sk-container-id-1 div.sk-parallel {display: flex;align-items: stretch;justify-content: center;background-color: white;position: relative;}#sk-container-id-1 div.sk-item::before, #sk-container-id-1 div.sk-parallel-item::before {content: \"\";position: absolute;border-left: 1px solid gray;box-sizing: border-box;top: 0;bottom: 0;left: 50%;z-index: -1;}#sk-container-id-1 div.sk-parallel-item {display: flex;flex-direction: column;z-index: 1;position: relative;background-color: white;}#sk-container-id-1 div.sk-parallel-item:first-child::after {align-self: flex-end;width: 50%;}#sk-container-id-1 div.sk-parallel-item:last-child::after {align-self: flex-start;width: 50%;}#sk-container-id-1 div.sk-parallel-item:only-child::after {width: 0;}#sk-container-id-1 div.sk-dashed-wrapped {border: 1px dashed gray;margin: 0 0.4em 0.5em 0.4em;box-sizing: border-box;padding-bottom: 0.4em;background-color: white;}#sk-container-id-1 div.sk-label label {font-family: monospace;font-weight: bold;display: inline-block;line-height: 1.2em;}#sk-container-id-1 div.sk-label-container {text-align: center;}#sk-container-id-1 div.sk-container {/* jupyter's `normalize.less` sets `[hidden] { display: none; }` but bootstrap.min.css set `[hidden] { display: none !important; }` so we also need the `!important` here to be able to override the default hidden behavior on the sphinx rendered scikit-learn.org. See: https://github.com/scikit-learn/scikit-learn/issues/21755 */display: inline-block !important;position: relative;}#sk-container-id-1 div.sk-text-repr-fallback {display: none;}</style><div id=\"sk-container-id-1\" class=\"sk-top-container\"><div class=\"sk-text-repr-fallback\"><pre>XGBRegressor(base_score=None, booster=None, callbacks=None,\n",
       "             colsample_bylevel=None, colsample_bynode=None,\n",
       "             colsample_bytree=None, early_stopping_rounds=None,\n",
       "             enable_categorical=False, eval_metric=None, feature_types=None,\n",
       "             gamma=None, gpu_id=None, grow_policy=None, importance_type=None,\n",
       "             interaction_constraints=None, learning_rate=None, max_bin=None,\n",
       "             max_cat_threshold=None, max_cat_to_onehot=None,\n",
       "             max_delta_step=None, max_depth=None, max_leaves=None,\n",
       "             min_child_weight=None, missing=nan, monotone_constraints=None,\n",
       "             n_estimators=100, n_jobs=None, num_parallel_tree=None,\n",
       "             predictor=None, random_state=None, ...)</pre><b>In a Jupyter environment, please rerun this cell to show the HTML representation or trust the notebook. <br />On GitHub, the HTML representation is unable to render, please try loading this page with nbviewer.org.</b></div><div class=\"sk-container\" hidden><div class=\"sk-item\"><div class=\"sk-estimator sk-toggleable\"><input class=\"sk-toggleable__control sk-hidden--visually\" id=\"sk-estimator-id-1\" type=\"checkbox\" checked><label for=\"sk-estimator-id-1\" class=\"sk-toggleable__label sk-toggleable__label-arrow\">XGBRegressor</label><div class=\"sk-toggleable__content\"><pre>XGBRegressor(base_score=None, booster=None, callbacks=None,\n",
       "             colsample_bylevel=None, colsample_bynode=None,\n",
       "             colsample_bytree=None, early_stopping_rounds=None,\n",
       "             enable_categorical=False, eval_metric=None, feature_types=None,\n",
       "             gamma=None, gpu_id=None, grow_policy=None, importance_type=None,\n",
       "             interaction_constraints=None, learning_rate=None, max_bin=None,\n",
       "             max_cat_threshold=None, max_cat_to_onehot=None,\n",
       "             max_delta_step=None, max_depth=None, max_leaves=None,\n",
       "             min_child_weight=None, missing=nan, monotone_constraints=None,\n",
       "             n_estimators=100, n_jobs=None, num_parallel_tree=None,\n",
       "             predictor=None, random_state=None, ...)</pre></div></div></div></div></div>"
      ],
      "text/plain": [
       "XGBRegressor(base_score=None, booster=None, callbacks=None,\n",
       "             colsample_bylevel=None, colsample_bynode=None,\n",
       "             colsample_bytree=None, early_stopping_rounds=None,\n",
       "             enable_categorical=False, eval_metric=None, feature_types=None,\n",
       "             gamma=None, gpu_id=None, grow_policy=None, importance_type=None,\n",
       "             interaction_constraints=None, learning_rate=None, max_bin=None,\n",
       "             max_cat_threshold=None, max_cat_to_onehot=None,\n",
       "             max_delta_step=None, max_depth=None, max_leaves=None,\n",
       "             min_child_weight=None, missing=nan, monotone_constraints=None,\n",
       "             n_estimators=100, n_jobs=None, num_parallel_tree=None,\n",
       "             predictor=None, random_state=None, ...)"
      ]
     },
     "execution_count": 36,
     "metadata": {},
     "output_type": "execute_result"
    }
   ],
   "source": [
    "y = obs_df.mean_LDL\n",
    "y_true = unobs_df.mean_LDL\n",
    "X=obs_df[[\"final_score\", \"phyloP100way_vertebrate\"]].values\n",
    "model = xgboost.XGBRegressor()\n",
    "model.fit(X, y)"
   ]
  },
  {
   "cell_type": "code",
   "execution_count": 38,
   "id": "0e205b8d",
   "metadata": {},
   "outputs": [
    {
     "name": "stderr",
     "output_type": "stream",
     "text": [
      "<ipython-input-38-3a23b16246f9>:1: SettingWithCopyWarning: \n",
      "A value is trying to be set on a copy of a slice from a DataFrame.\n",
      "Try using .loc[row_indexer,col_indexer] = value instead\n",
      "\n",
      "See the caveats in the documentation: https://pandas.pydata.org/pandas-docs/stable/user_guide/indexing.html#returning-a-view-versus-a-copy\n",
      "  unobs_df['y_unobs_pred'] = model.predict(unobs_df[[\"final_score\", \"phyloP100way_vertebrate\"]].values)\n"
     ]
    }
   ],
   "source": [
    "unobs_df['y_unobs_pred'] = model.predict(unobs_df[[\"final_score\", \"phyloP100way_vertebrate\"]].values)"
   ]
  },
  {
   "cell_type": "code",
   "execution_count": 83,
   "id": "ff2f4548",
   "metadata": {},
   "outputs": [
    {
     "data": {
      "image/png": "[encoded data removed]",
      "text/plain": [
       "<Figure size 360x360 with 1 Axes>"
      ]
     },
     "metadata": {},
     "output_type": "display_data"
    }
   ],
   "source": [
    "plt.style.use('jr')\n",
    "fig, ax = plt.subplots(figsize=(5,5))\n",
    "\n",
    "pdf = unobs_df\n",
    "ycol = 'y_unobs_pred'\n",
    "sns.scatterplot(pdf, x = 'mean_LDL', y = ycol, ax = ax, hue = \"clinvar_annot_4\", palette = clnsig_pal, legend=False, s=10)\n",
    "ax.text(0.6, 0.03, f\"R_Spe={pdf[['mean_LDL', ycol]].corr('spearman').iloc[0, 1]:.3f}\", transform = ax.transAxes)\n",
    "ax.text(0.6, 0.1, f\"R_Pea={pdf[['mean_LDL', ycol]].corr().iloc[0, 1]:.3f}\", transform = ax.transAxes)\n",
    "ax.text(0.6, 0.17, f\"RMSE={np.sqrt(((pdf.mean_LDL-pdf[ycol])**2).mean()):.2f}\", transform = ax.transAxes)\n",
    "ax.set_ylabel(\"Predicted\\ny ~ BEAN-FUSE + PhyloP\")\n",
    "\n",
    "xpt = np.arange(pdf[['mean_LDL', ycol]].min().min(), pdf[['mean_LDL', ycol]].max().max(), 10)\n",
    "ax.plot(xpt, xpt, linestyle = '--', color='grey', label='x=y')\n",
    "ax.set_xlim((pdf[['mean_LDL', ycol]].min().min()-5, pdf[['mean_LDL', ycol]].max().max()+5))\n",
    "ax.set_ylim((pdf[['mean_LDL', ycol]].min().min()-5, pdf[['mean_LDL', ycol]].max().max()+5))\n",
    "ax.legend()\n",
    "plt.tight_layout()\n",
    "ax.set_xlabel(\"x = Statin-adjusted LDL-C (mg/dL)\")\n",
    "ax.text(0.8, 0.9, f\"n={len(fuse_imputation.loc[~fuse_imputation.final_score.isnull() & (~fuse_imputation.mean_LDL.isnull())])}\", transform=ax.transAxes)\n",
    "\n",
    "ax.set_box_aspect(1)\n",
    "sns.despine(top=True, right=True)\n",
    "fig.savefig(\"5i_predict_all_with_fuse_phylop_v3.pdf\", bbox_inches=\"tight\")"
   ]
  },
  {
   "cell_type": "code",
   "execution_count": 39,
   "id": "dec547bb",
   "metadata": {},
   "outputs": [
    {
     "data": {
      "image/png": "[encoded data removed]",
      "text/plain": [
       "<Figure size 360x360 with 1 Axes>"
      ]
     },
     "metadata": {},
     "output_type": "display_data"
    }
   ],
   "source": [
    "plt.style.use('jr')\n",
    "fig, ax = plt.subplots(figsize=(5,5))\n",
    "\n",
    "pdf = unobs_df\n",
    "ycol = 'y_unobs_pred'\n",
    "sns.scatterplot(pdf, x = 'mean_LDL', y = ycol, ax = ax, hue = \"clinvar_annot_4\", palette = clnsig_pal, legend=False, s=10)\n",
    "ax.text(0.6, 0.03, f\"R_Spe={pdf[['mean_LDL', ycol]].corr('spearman').iloc[0, 1]:.3f}\", transform = ax.transAxes)\n",
    "ax.text(0.6, 0.1, f\"R_Pea={pdf[['mean_LDL', ycol]].corr().iloc[0, 1]:.3f}\", transform = ax.transAxes)\n",
    "ax.text(0.6, 0.17, f\"RMSE={np.sqrt(((pdf.mean_LDL-pdf[ycol])**2).mean()):.2f}\", transform = ax.transAxes)\n",
    "ax.set_ylabel(\"Predicted\\ny ~ BEAN-FUSE + PhyloP\")\n",
    "\n",
    "xpt = np.arange(pdf[['mean_LDL', ycol]].min().min(), pdf[['mean_LDL', ycol]].max().max(), 10)\n",
    "ax.plot(xpt, xpt, linestyle = '--', color='grey', label='x=y')\n",
    "ax.set_xlim((pdf[['mean_LDL', ycol]].min().min()-5, pdf[['mean_LDL', ycol]].max().max()+5))\n",
    "ax.set_ylim((pdf[['mean_LDL', ycol]].min().min()-5, pdf[['mean_LDL', ycol]].max().max()+5))\n",
    "ax.legend()\n",
    "plt.tight_layout()\n",
    "ax.set_xlabel(\"x = Statin-adjusted LDL-C (mg/dL)\")\n",
    "ax.text(0.8, 0.9, f\"n={len(fuse_imputation.loc[~fuse_imputation.final_score.isnull() & (~fuse_imputation.mean_LDL.isnull())])}\", transform=ax.transAxes)\n",
    "\n",
    "ax.set_box_aspect(1)\n",
    "sns.despine(top=True, right=True)\n",
    "#fig.savefig(\"5i_predict_all_with_fuse_phylop_v3.pdf\", bbox_inches=\"tight\")"
   ]
  },
  {
   "cell_type": "code",
   "execution_count": 40,
   "id": "19e661c6",
   "metadata": {},
   "outputs": [],
   "source": [
    "pdf[['mean_LDL', ycol]].to_csv(\"E9b.csv\")"
   ]
  }
 ],
 "metadata": {
  "kernelspec": {
   "display_name": "jy_anbe_py38",
   "language": "python",
   "name": "jy_anbe_py38"
  },
  "language_info": {
   "codemirror_mode": {
    "name": "ipython",
    "version": 3
   },
   "file_extension": ".py",
   "mimetype": "text/x-python",
   "name": "python",
   "nbconvert_exporter": "python",
   "pygments_lexer": "ipython3",
   "version": "3.8.15"
  }
 },
 "nbformat": 4,
 "nbformat_minor": 5
}
