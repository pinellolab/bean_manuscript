{
 "cells": [
  {
   "cell_type": "code",
   "execution_count": 1,
   "id": "6d91fcfd",
   "metadata": {},
   "outputs": [],
   "source": [
    "import pandas as pd"
   ]
  },
  {
   "cell_type": "code",
   "execution_count": 2,
   "id": "4e6bf3f2",
   "metadata": {},
   "outputs": [],
   "source": [
    "tbl = pd.read_csv(\"../../resources/gRNA_info/LDLRCDS_gRNA_bean.csv\")"
   ]
  },
  {
   "cell_type": "code",
   "execution_count": 4,
   "id": "410e9251",
   "metadata": {},
   "outputs": [],
   "source": [
    "tbl['chrom'] = 'chr19'\n",
    "tbl['chromEnd'] = tbl.start_pos + tbl.guide_len"
   ]
  },
  {
   "cell_type": "code",
   "execution_count": 11,
   "id": "e63c07ae",
   "metadata": {},
   "outputs": [
    {
     "data": {
      "text/plain": [
       "20"
      ]
     },
     "execution_count": 11,
     "metadata": {},
     "output_type": "execute_result"
    }
   ],
   "source": [
    "tbl['guide_len'].max()"
   ]
  },
  {
   "cell_type": "code",
   "execution_count": 7,
   "id": "735e2874",
   "metadata": {},
   "outputs": [],
   "source": [
    "gbed = tbl[['chrom', 'start_pos', 'chromEnd']].loc[tbl['start_pos']!=-1]"
   ]
  },
  {
   "cell_type": "code",
   "execution_count": 10,
   "id": "641bb9fd",
   "metadata": {},
   "outputs": [],
   "source": [
    "gbed.to_csv(\"LDLRCDS_gRNA.bed\", index=False, header=False, sep=\"\\t\")"
   ]
  }
 ],
 "metadata": {
  "kernelspec": {
   "display_name": "Python 3",
   "language": "python",
   "name": "python3"
  },
  "language_info": {
   "codemirror_mode": {
    "name": "ipython",
    "version": 3
   },
   "file_extension": ".py",
   "mimetype": "text/x-python",
   "name": "python",
   "nbconvert_exporter": "python",
   "pygments_lexer": "ipython3",
   "version": "3.8.15"
  }
 },
 "nbformat": 4,
 "nbformat_minor": 5
}
