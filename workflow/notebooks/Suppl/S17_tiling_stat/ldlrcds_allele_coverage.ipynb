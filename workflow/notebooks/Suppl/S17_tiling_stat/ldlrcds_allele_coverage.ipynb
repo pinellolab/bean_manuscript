{
 "cells": [
  {
   "cell_type": "code",
   "execution_count": 1,
   "id": "a54f81f9",
   "metadata": {},
   "outputs": [],
   "source": [
    "import numpy as np\n",
    "import matplotlib\n",
    "import matplotlib.pyplot as plt\n",
    "import bean as be"
   ]
  },
  {
   "cell_type": "code",
   "execution_count": 2,
   "id": "91abbf06",
   "metadata": {},
   "outputs": [],
   "source": [
    "plt.style.use('default')\n",
    "plt.rcParams[\"pdf.use14corefonts\"] = True\n",
    "matplotlib.rcParams['pdf.fonttype'] = 42 "
   ]
  },
  {
   "cell_type": "code",
   "execution_count": 3,
   "id": "397cfb59",
   "metadata": {},
   "outputs": [],
   "source": [
    "bdata = be.read_h5ad(\"../../results/filtered_annotated/LDLRCDS/bean_count_LDLRCDS_annotated_spacer0.1_0.3.h5ad\")"
   ]
  },
  {
   "cell_type": "code",
   "execution_count": 4,
   "id": "51ca76b9",
   "metadata": {},
   "outputs": [
    {
     "data": {
      "text/plain": [
       "dict_keys(['allele_counts', 'edit_counts', 'lfc', 'lfc_corr', 'metadata', 'repguide_mask', 'sig_allele_counts', 'sig_allele_counts_spacer', 'sig_allele_counts_spacer_0_19', 'sig_allele_counts_spacer_0_19_A.G', 'sig_allele_counts_spacer_0_19_A.G_translated', 'sig_allele_counts_spacer_0_19_A.G_translated_prop0.1_0.3', 'target_base_change', 'tiling'])"
      ]
     },
     "execution_count": 4,
     "metadata": {},
     "output_type": "execute_result"
    }
   ],
   "source": [
    "bdata.uns.keys()"
   ]
  },
  {
   "cell_type": "code",
   "execution_count": 8,
   "id": "9becd7c7",
   "metadata": {},
   "outputs": [],
   "source": [
    "def get_allele_stats(allele_key):\n",
    "    adf = bdata.uns[allele_key].copy()\n",
    "    adf['edits'] = adf.aa_allele.map(lambda a: list(a.aa_allele.edits) + list(a.nt_allele.edits))\n",
    "    edf = adf.explode('edits')\n",
    "    edf['edit_abs'] = edf.edits.map(lambda e: e.get_abs_edit())\n",
    "    edf_vars = edf.loc[~edf.guide.map(lambda s: \"CONTROL\" in s)]\n",
    "    alleles_per_guide = (adf.groupby('guide')['aa_allele'].count().reindex(bdata.guides.index).fillna(0) + 1)\n",
    "    guides_per_edit = edf_vars.groupby('edit_abs')['guide'].nunique()\n",
    "    return alleles_per_guide, guides_per_edit"
   ]
  },
  {
   "cell_type": "code",
   "execution_count": 9,
   "id": "55fea8bd",
   "metadata": {},
   "outputs": [],
   "source": [
    "def plot_hist_int(data, ax = None):\n",
    "    #https://stackoverflow.com/questions/30112420/histogram-for-discrete-values-with-matplotlib\n",
    "    d = np.diff(np.unique(data)).min()\n",
    "    left_of_first_bin = data.min() - float(d)/2\n",
    "    right_of_last_bin = data.max() + float(d)/2\n",
    "    if ax is None:\n",
    "        plt.hist(data, np.arange(left_of_first_bin, right_of_last_bin + d, d), color='grey')\n",
    "    else:\n",
    "        ax.hist(data, np.arange(left_of_first_bin, right_of_last_bin + d, d), color='grey')\n",
    "        return ax"
   ]
  },
  {
   "cell_type": "markdown",
   "id": "52dc5c6b",
   "metadata": {},
   "source": [
    "## Before allele filtering"
   ]
  },
  {
   "cell_type": "code",
   "execution_count": 23,
   "id": "fb3260ed",
   "metadata": {},
   "outputs": [
    {
     "data": {
      "text/plain": [
       "dict_keys(['allele_counts', 'edit_counts', 'lfc', 'lfc_corr', 'metadata', 'repguide_mask', 'sig_allele_counts', 'sig_allele_counts_spacer', 'sig_allele_counts_spacer_0_19', 'sig_allele_counts_spacer_0_19_A.G', 'sig_allele_counts_spacer_0_19_A.G_translated', 'sig_allele_counts_spacer_0_19_A.G_translated_prop0.1_0.3', 'target_base_change', 'tiling'])"
      ]
     },
     "execution_count": 23,
     "metadata": {},
     "output_type": "execute_result"
    }
   ],
   "source": [
    "bdata.uns.keys()"
   ]
  },
  {
   "cell_type": "code",
   "execution_count": 24,
   "id": "510d9bf2",
   "metadata": {},
   "outputs": [],
   "source": [
    "alleles_per_guide, guides_per_edit = get_allele_stats('sig_allele_counts_spacer_0_19_A.G_translated')"
   ]
  },
  {
   "cell_type": "code",
   "execution_count": 25,
   "id": "7c688db1",
   "metadata": {},
   "outputs": [
    {
     "data": {
      "image/png": "[encoded data removed]",
      "text/plain": [
       "<Figure size 576x288 with 2 Axes>"
      ]
     },
     "metadata": {},
     "output_type": "display_data"
    }
   ],
   "source": [
    "plt.style.use('jr')\n",
    "fig, ax = plt.subplots(1, 2, figsize=(8, 4))\n",
    "plot_hist_int(alleles_per_guide, ax[0])\n",
    "plot_hist_int(guides_per_edit, ax[1])\n",
    "ax[0].set_xlabel(\"# alleles per guide\")\n",
    "ax[0].set_ylabel(\"Frequency\")\n",
    "ax[1].set_xlabel(\"# guides per variant\")\n",
    "ax[1].set_ylabel(\"Frequency\")\n",
    "plt.tight_layout()\n",
    "fig.savefig(\"S9_allele_filtering_stats_unfiltered.pdf\")"
   ]
  },
  {
   "cell_type": "code",
   "execution_count": 26,
   "id": "f99800b6",
   "metadata": {},
   "outputs": [
    {
     "data": {
      "text/plain": [
       "0.00     1.0\n",
       "0.25     4.0\n",
       "0.50     7.0\n",
       "0.75    11.0\n",
       "1.00    59.0\n",
       "Name: aa_allele, dtype: float64"
      ]
     },
     "execution_count": 26,
     "metadata": {},
     "output_type": "execute_result"
    }
   ],
   "source": [
    "alleles_per_guide.quantile([0.0, 0.25,0.5,0.75,1.0])"
   ]
  },
  {
   "cell_type": "code",
   "execution_count": 27,
   "id": "6795f401",
   "metadata": {},
   "outputs": [
    {
     "data": {
      "text/plain": [
       "8.1576"
      ]
     },
     "execution_count": 27,
     "metadata": {},
     "output_type": "execute_result"
    }
   ],
   "source": [
    "alleles_per_guide.mean()"
   ]
  },
  {
   "cell_type": "code",
   "execution_count": 28,
   "id": "6dd5c7da",
   "metadata": {},
   "outputs": [
    {
     "data": {
      "text/plain": [
       "0.00     1.0\n",
       "0.25     4.0\n",
       "0.50     9.0\n",
       "0.75    16.0\n",
       "1.00    35.0\n",
       "Name: guide, dtype: float64"
      ]
     },
     "execution_count": 28,
     "metadata": {},
     "output_type": "execute_result"
    }
   ],
   "source": [
    "guides_per_edit.quantile([0.0, 0.25,0.5,0.75,1.0])"
   ]
  },
  {
   "cell_type": "code",
   "execution_count": 29,
   "id": "f4390781",
   "metadata": {},
   "outputs": [
    {
     "data": {
      "text/plain": [
       "10.024359512809744"
      ]
     },
     "execution_count": 29,
     "metadata": {},
     "output_type": "execute_result"
    }
   ],
   "source": [
    "guides_per_edit.mean()"
   ]
  },
  {
   "cell_type": "markdown",
   "id": "71837cf3",
   "metadata": {},
   "source": [
    "## After allele filtering"
   ]
  },
  {
   "cell_type": "code",
   "execution_count": 16,
   "id": "128837c2",
   "metadata": {},
   "outputs": [],
   "source": [
    "alleles_per_guide, guides_per_edit = get_allele_stats('sig_allele_counts_spacer_0_19_A.G_translated_prop0.1_0.3')"
   ]
  },
  {
   "cell_type": "code",
   "execution_count": 17,
   "id": "2928e8c6",
   "metadata": {},
   "outputs": [
    {
     "data": {
      "image/png": "[encoded data removed]",
      "text/plain": [
       "<Figure size 576x288 with 2 Axes>"
      ]
     },
     "metadata": {},
     "output_type": "display_data"
    }
   ],
   "source": [
    "plt.style.use('jr')\n",
    "fig, ax = plt.subplots(1, 2, figsize=(8, 4))\n",
    "plot_hist_int(alleles_per_guide, ax[0])\n",
    "plot_hist_int(guides_per_edit, ax[1])\n",
    "ax[0].set_xlabel(\"# alleles per guide\")\n",
    "ax[0].set_ylabel(\"Frequency\")\n",
    "ax[1].set_xlabel(\"# guides per variant\")\n",
    "ax[1].set_ylabel(\"Frequency\")\n",
    "plt.tight_layout()\n",
    "fig.savefig(\"S9_allele_filtering_stats.pdf\")"
   ]
  },
  {
   "cell_type": "code",
   "execution_count": 18,
   "id": "07203f5f",
   "metadata": {},
   "outputs": [
    {
     "data": {
      "text/plain": [
       "0.00    1.0\n",
       "0.25    2.0\n",
       "0.50    2.0\n",
       "0.75    3.0\n",
       "1.00    7.0\n",
       "Name: aa_allele, dtype: float64"
      ]
     },
     "execution_count": 18,
     "metadata": {},
     "output_type": "execute_result"
    }
   ],
   "source": [
    "alleles_per_guide.quantile([0.0, 0.25,0.5,0.75,1.0])"
   ]
  },
  {
   "cell_type": "code",
   "execution_count": 19,
   "id": "493c82e8",
   "metadata": {},
   "outputs": [
    {
     "data": {
      "text/plain": [
       "2.5614666666666666"
      ]
     },
     "execution_count": 19,
     "metadata": {},
     "output_type": "execute_result"
    }
   ],
   "source": [
    "alleles_per_guide.mean()"
   ]
  },
  {
   "cell_type": "code",
   "execution_count": 20,
   "id": "d8933cea",
   "metadata": {},
   "outputs": [
    {
     "data": {
      "text/plain": [
       "0.00     1.0\n",
       "0.25     2.0\n",
       "0.50     4.0\n",
       "0.75     8.0\n",
       "1.00    31.0\n",
       "Name: guide, dtype: float64"
      ]
     },
     "execution_count": 20,
     "metadata": {},
     "output_type": "execute_result"
    }
   ],
   "source": [
    "guides_per_edit.quantile([0.0, 0.25,0.5,0.75,1.0])"
   ]
  },
  {
   "cell_type": "code",
   "execution_count": 21,
   "id": "cd34f3b8",
   "metadata": {},
   "outputs": [
    {
     "data": {
      "text/plain": [
       "5.793323514972999"
      ]
     },
     "execution_count": 21,
     "metadata": {},
     "output_type": "execute_result"
    }
   ],
   "source": [
    "guides_per_edit.mean()"
   ]
  }
 ],
 "metadata": {
  "kernelspec": {
   "display_name": "jy_anbe_py38",
   "language": "python",
   "name": "jy_anbe_py38"
  },
  "language_info": {
   "codemirror_mode": {
    "name": "ipython",
    "version": 3
   },
   "file_extension": ".py",
   "mimetype": "text/x-python",
   "name": "python",
   "nbconvert_exporter": "python",
   "pygments_lexer": "ipython3",
   "version": "3.8.12"
  }
 },
 "nbformat": 4,
 "nbformat_minor": 5
}
