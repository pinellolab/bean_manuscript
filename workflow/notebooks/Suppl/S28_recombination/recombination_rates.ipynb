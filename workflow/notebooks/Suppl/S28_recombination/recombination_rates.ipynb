{
 "cells": [
  {
   "cell_type": "code",
   "execution_count": 18,
   "id": "fe1d30e0",
   "metadata": {},
   "outputs": [],
   "source": [
    "import numpy as np\n",
    "import bean as be\n",
    "import matplotlib\n",
    "import matplotlib.pyplot as plt\n",
    "import seaborn as sns"
   ]
  },
  {
   "cell_type": "code",
   "execution_count": 16,
   "id": "93e22d64",
   "metadata": {},
   "outputs": [],
   "source": [
    "plt.style.use('jr')\n",
    "plt.rcParams[\"pdf.use14corefonts\"] = True\n",
    "matplotlib.rcParams['pdf.fonttype'] = 42 \n",
    "matplotlib.rcParams[\"axes.unicode_minus\"] = False\n",
    "plt.rcParams['axes.facecolor']='white'"
   ]
  },
  {
   "cell_type": "markdown",
   "id": "09d91b24",
   "metadata": {},
   "source": [
    "# LDLvar"
   ]
  },
  {
   "cell_type": "code",
   "execution_count": 3,
   "id": "2958fd6b",
   "metadata": {},
   "outputs": [],
   "source": [
    "bdata = be.read_h5ad(\"../../../results/filtered_annotated/LDLvar/bean_count_LDLvar_annotated.h5ad\")"
   ]
  },
  {
   "cell_type": "code",
   "execution_count": 7,
   "id": "4cfc87a4",
   "metadata": {},
   "outputs": [],
   "source": [
    "count = bdata.X.copy()\n",
    "count[count < 10] = np.nan\n",
    "\n",
    "recomb_rates = (count - bdata.layers['X_bcmatch']) / count"
   ]
  },
  {
   "cell_type": "code",
   "execution_count": 38,
   "id": "c29f7fc1",
   "metadata": {},
   "outputs": [
    {
     "name": "stderr",
     "output_type": "stream",
     "text": [
      "/data/pinello/SHARED_SOFTWARE/anaconda_latest/envs/jy_anbe_py38/lib/python3.8/site-packages/numpy/lib/nanfunctions.py:1217: RuntimeWarning: All-NaN slice encountered\n",
      "  r, k = function_base._ureduce(a, func=_nanmedian, axis=axis, out=out,\n"
     ]
    }
   ],
   "source": [
    "recomb_rates_by_guide = np.nanmedian(recomb_rates, axis=1)\n",
    "recomb_rates_by_sample = np.nanmedian(recomb_rates, axis=0)\n",
    "recomb_rates_by_sample[np.where(bdata.samples.reset_index()[\"mask\"] == 0)] = np.nan"
   ]
  },
  {
   "cell_type": "code",
   "execution_count": 31,
   "id": "bb0d70f4",
   "metadata": {},
   "outputs": [
    {
     "data": {
      "text/plain": [
       "array([0.3146844 , 0.30666667, 0.30078125, 0.31670061, 0.31111111,\n",
       "       0.97222222, 0.41694352, 0.36866359, 0.41329932, 0.41097396,\n",
       "       0.30706481, 0.30948504, 0.29230769, 0.31730769, 0.3196865 ,\n",
       "       0.30687831, 0.32616487, 0.26666667, 0.29516539, 0.30216707,\n",
       "       0.30555556, 0.29737367, 0.26904762, 0.30239848, 0.29599906,\n",
       "       0.29166667, 0.34698997, 0.27433628, 0.28947368, 0.29389313,\n",
       "       0.37630764, 0.37223004, 0.3       , 0.3778841 , 0.33333333,\n",
       "       0.37753053, 0.4       , 0.28947368, 0.37693039, 0.32352941])"
      ]
     },
     "execution_count": 31,
     "metadata": {},
     "output_type": "execute_result"
    }
   ],
   "source": [
    "recomb_rates_by_sample"
   ]
  },
  {
   "cell_type": "code",
   "execution_count": 46,
   "id": "6d019cd7",
   "metadata": {},
   "outputs": [
    {
     "name": "stdout",
     "output_type": "stream",
     "text": [
      "0.26666666666666666\n",
      "0.4169435215946844\n"
     ]
    }
   ],
   "source": [
    "print(np.nanmin(recomb_rates_by_sample))\n",
    "print(np.nanmax(recomb_rates_by_sample))"
   ]
  },
  {
   "cell_type": "code",
   "execution_count": 43,
   "id": "cc97dbb3",
   "metadata": {},
   "outputs": [
    {
     "name": "stderr",
     "output_type": "stream",
     "text": [
      "WARNING @ Thu, 24 Aug 2023 00:14:28:\n",
      "\t findfont: Font family ['sans-serif'] not found. Falling back to Helvetica. \n",
      "\n",
      "WARNING @ Thu, 24 Aug 2023 00:14:28:\n",
      "\t findfont: Generic family 'sans-serif' not found because none of the following families were found: Arial \n",
      "\n",
      "WARNING @ Thu, 24 Aug 2023 00:14:28:\n",
      "\t findfont: Font family ['sans-serif'] not found. Falling back to Helvetica. \n",
      "\n",
      "WARNING @ Thu, 24 Aug 2023 00:14:28:\n",
      "\t findfont: Generic family 'sans-serif' not found because none of the following families were found: Arial \n",
      "\n",
      "WARNING @ Thu, 24 Aug 2023 00:14:28:\n",
      "\t findfont: Generic family 'sans-serif' not found because none of the following families were found: Arial \n",
      "\n",
      "WARNING @ Thu, 24 Aug 2023 00:14:28:\n",
      "\t findfont: Generic family 'sans-serif' not found because none of the following families were found: Arial \n",
      "\n",
      "WARNING @ Thu, 24 Aug 2023 00:14:28:\n",
      "\t findfont: Generic family 'sans-serif' not found because none of the following families were found: Arial \n",
      "\n",
      "WARNING @ Thu, 24 Aug 2023 00:14:28:\n",
      "\t findfont: Generic family 'sans-serif' not found because none of the following families were found: Arial \n",
      "\n",
      "WARNING @ Thu, 24 Aug 2023 00:14:28:\n",
      "\t findfont: Generic family 'sans-serif' not found because none of the following families were found: Arial \n",
      "\n",
      "WARNING @ Thu, 24 Aug 2023 00:14:28:\n",
      "\t findfont: Generic family 'sans-serif' not found because none of the following families were found: Arial \n",
      "\n",
      "WARNING @ Thu, 24 Aug 2023 00:14:28:\n",
      "\t findfont: Generic family 'sans-serif' not found because none of the following families were found: Arial \n",
      "\n",
      "WARNING @ Thu, 24 Aug 2023 00:14:28:\n",
      "\t findfont: Generic family 'sans-serif' not found because none of the following families were found: Arial \n",
      "\n",
      "WARNING @ Thu, 24 Aug 2023 00:14:28:\n",
      "\t findfont: Generic family 'sans-serif' not found because none of the following families were found: Arial \n",
      "\n",
      "WARNING @ Thu, 24 Aug 2023 00:14:28:\n",
      "\t findfont: Generic family 'sans-serif' not found because none of the following families were found: Arial \n",
      "\n",
      "WARNING @ Thu, 24 Aug 2023 00:14:28:\n",
      "\t findfont: Generic family 'sans-serif' not found because none of the following families were found: Arial \n",
      "\n",
      "WARNING @ Thu, 24 Aug 2023 00:14:28:\n",
      "\t findfont: Generic family 'sans-serif' not found because none of the following families were found: Arial \n",
      "\n",
      "WARNING @ Thu, 24 Aug 2023 00:14:28:\n",
      "\t findfont: Generic family 'sans-serif' not found because none of the following families were found: Arial \n",
      "\n",
      "WARNING @ Thu, 24 Aug 2023 00:14:28:\n",
      "\t findfont: Generic family 'sans-serif' not found because none of the following families were found: Arial \n",
      "\n",
      "WARNING @ Thu, 24 Aug 2023 00:14:28:\n",
      "\t findfont: Generic family 'sans-serif' not found because none of the following families were found: Arial \n",
      "\n",
      "WARNING @ Thu, 24 Aug 2023 00:14:28:\n",
      "\t findfont: Generic family 'sans-serif' not found because none of the following families were found: Arial \n",
      "\n",
      "WARNING @ Thu, 24 Aug 2023 00:14:28:\n",
      "\t findfont: Generic family 'sans-serif' not found because none of the following families were found: Arial \n",
      "\n",
      "WARNING @ Thu, 24 Aug 2023 00:14:28:\n",
      "\t findfont: Generic family 'sans-serif' not found because none of the following families were found: Arial \n",
      "\n",
      "WARNING @ Thu, 24 Aug 2023 00:14:28:\n",
      "\t findfont: Generic family 'sans-serif' not found because none of the following families were found: Arial \n",
      "\n",
      "WARNING @ Thu, 24 Aug 2023 00:14:28:\n",
      "\t findfont: Generic family 'sans-serif' not found because none of the following families were found: Arial \n",
      "\n",
      "WARNING @ Thu, 24 Aug 2023 00:14:28:\n",
      "\t findfont: Generic family 'sans-serif' not found because none of the following families were found: Arial \n",
      "\n",
      "WARNING @ Thu, 24 Aug 2023 00:14:28:\n",
      "\t findfont: Generic family 'sans-serif' not found because none of the following families were found: Arial \n",
      "\n",
      "WARNING @ Thu, 24 Aug 2023 00:14:28:\n",
      "\t findfont: Generic family 'sans-serif' not found because none of the following families were found: Arial \n",
      "\n",
      "WARNING @ Thu, 24 Aug 2023 00:14:28:\n",
      "\t findfont: Generic family 'sans-serif' not found because none of the following families were found: Arial \n",
      "\n",
      "WARNING @ Thu, 24 Aug 2023 00:14:28:\n",
      "\t findfont: Generic family 'sans-serif' not found because none of the following families were found: Arial \n",
      "\n",
      "WARNING @ Thu, 24 Aug 2023 00:14:28:\n",
      "\t findfont: Generic family 'sans-serif' not found because none of the following families were found: Arial \n",
      "\n",
      "WARNING @ Thu, 24 Aug 2023 00:14:28:\n",
      "\t findfont: Generic family 'sans-serif' not found because none of the following families were found: Arial \n",
      "\n",
      "WARNING @ Thu, 24 Aug 2023 00:14:28:\n",
      "\t findfont: Generic family 'sans-serif' not found because none of the following families were found: Arial \n",
      "\n",
      "WARNING @ Thu, 24 Aug 2023 00:14:28:\n",
      "\t findfont: Generic family 'sans-serif' not found because none of the following families were found: Arial \n",
      "\n"
     ]
    },
    {
     "data": {
      "image/png": "[encoded data removed]",
      "text/plain": [
       "<Figure size 720x288 with 2 Axes>"
      ]
     },
     "metadata": {},
     "output_type": "display_data"
    }
   ],
   "source": [
    "fig, ax = plt.subplots(1, 2, figsize=(10, 4))\n",
    "sns.histplot(recomb_rates_by_guide, ax = ax[0])\n",
    "ax[0].text(0.7, 0.9, f\"n={sum(~np.isnan(recomb_rates_by_guide))}\", transform=ax[0].transAxes)\n",
    "ax[0].set_title(\"Per-guide median recombination rate\")\n",
    "\n",
    "sns.histplot(recomb_rates_by_sample, ax = ax[1])\n",
    "ax[1].text(0.8, 0.9, f\"n={sum(~np.isnan(recomb_rates_by_sample))}\", transform=ax[1].transAxes)\n",
    "ax[1].set_title(\"Per-sample median recombination rate\")\n",
    "\n",
    "plt.setp(ax, xlim=(0, 1))\n",
    "plt.tight_layout()\n",
    "fig.savefig(\"S_recombination_rates.pdf\")"
   ]
  },
  {
   "cell_type": "markdown",
   "id": "9c739827",
   "metadata": {},
   "source": [
    "# LDLRCDS"
   ]
  },
  {
   "cell_type": "code",
   "execution_count": null,
   "id": "9ba55246",
   "metadata": {},
   "outputs": [],
   "source": []
  },
  {
   "cell_type": "markdown",
   "id": "33a5293e",
   "metadata": {},
   "source": [
    "# LDLvar"
   ]
  },
  {
   "cell_type": "code",
   "execution_count": 48,
   "id": "aef5f3dc",
   "metadata": {},
   "outputs": [],
   "source": [
    "cdata = be.read_h5ad(\"../../../results/filtered_annotated/LDLRCDS/bean_count_LDLRCDS_annotated_spacer0.1_0.3.h5ad\")"
   ]
  },
  {
   "cell_type": "code",
   "execution_count": 49,
   "id": "7ade0f87",
   "metadata": {},
   "outputs": [],
   "source": [
    "count = cdata.X.copy()\n",
    "count[count < 10] = np.nan\n",
    "\n",
    "recomb_rates = (count - cdata.layers['X_bcmatch']) / count"
   ]
  },
  {
   "cell_type": "code",
   "execution_count": 50,
   "id": "5d341f44",
   "metadata": {},
   "outputs": [
    {
     "name": "stderr",
     "output_type": "stream",
     "text": [
      "/data/pinello/SHARED_SOFTWARE/anaconda_latest/envs/jy_anbe_py38/lib/python3.8/site-packages/numpy/lib/nanfunctions.py:1217: RuntimeWarning: All-NaN slice encountered\n",
      "  r, k = function_base._ureduce(a, func=_nanmedian, axis=axis, out=out,\n"
     ]
    }
   ],
   "source": [
    "recomb_rates_by_guide = np.nanmedian(recomb_rates, axis=1)\n",
    "recomb_rates_by_sample = np.nanmedian(recomb_rates, axis=0)\n",
    "recomb_rates_by_sample[np.where(cdata.samples.reset_index()[\"mask\"] == 0)] = np.nan"
   ]
  },
  {
   "cell_type": "code",
   "execution_count": 51,
   "id": "232dde79",
   "metadata": {},
   "outputs": [
    {
     "data": {
      "text/plain": [
       "array([0.46518106, 0.46300716, 0.45714286, 0.46415278, 0.46737211,\n",
       "       0.47101449, 0.46898638, 0.46120585, 0.46468401, 0.46666667,\n",
       "       0.53647734, 0.53571429, 0.51076049, 0.52678942, 0.51891892,\n",
       "       0.5315702 , 0.52547771, 0.50819672, 0.53246753, 0.53488372,\n",
       "              nan, 0.53333333, 0.50732823, 0.52173913,        nan])"
      ]
     },
     "execution_count": 51,
     "metadata": {},
     "output_type": "execute_result"
    }
   ],
   "source": [
    "recomb_rates_by_sample"
   ]
  },
  {
   "cell_type": "code",
   "execution_count": 52,
   "id": "fffbc673",
   "metadata": {},
   "outputs": [
    {
     "name": "stdout",
     "output_type": "stream",
     "text": [
      "0.45714285714285713\n",
      "0.5364773418491484\n"
     ]
    }
   ],
   "source": [
    "print(np.nanmin(recomb_rates_by_sample))\n",
    "print(np.nanmax(recomb_rates_by_sample))"
   ]
  },
  {
   "cell_type": "code",
   "execution_count": 53,
   "id": "41a179a8",
   "metadata": {},
   "outputs": [
    {
     "name": "stderr",
     "output_type": "stream",
     "text": [
      "WARNING @ Thu, 24 Aug 2023 00:17:21:\n",
      "\t findfont: Generic family 'sans-serif' not found because none of the following families were found: Arial \n",
      "\n",
      "WARNING @ Thu, 24 Aug 2023 00:17:21:\n",
      "\t findfont: Generic family 'sans-serif' not found because none of the following families were found: Arial \n",
      "\n",
      "WARNING @ Thu, 24 Aug 2023 00:17:21:\n",
      "\t findfont: Generic family 'sans-serif' not found because none of the following families were found: Arial \n",
      "\n",
      "WARNING @ Thu, 24 Aug 2023 00:17:21:\n",
      "\t findfont: Generic family 'sans-serif' not found because none of the following families were found: Arial \n",
      "\n",
      "WARNING @ Thu, 24 Aug 2023 00:17:21:\n",
      "\t findfont: Generic family 'sans-serif' not found because none of the following families were found: Arial \n",
      "\n",
      "WARNING @ Thu, 24 Aug 2023 00:17:21:\n",
      "\t findfont: Generic family 'sans-serif' not found because none of the following families were found: Arial \n",
      "\n",
      "WARNING @ Thu, 24 Aug 2023 00:17:21:\n",
      "\t findfont: Generic family 'sans-serif' not found because none of the following families were found: Arial \n",
      "\n",
      "WARNING @ Thu, 24 Aug 2023 00:17:21:\n",
      "\t findfont: Generic family 'sans-serif' not found because none of the following families were found: Arial \n",
      "\n",
      "WARNING @ Thu, 24 Aug 2023 00:17:21:\n",
      "\t findfont: Generic family 'sans-serif' not found because none of the following families were found: Arial \n",
      "\n",
      "WARNING @ Thu, 24 Aug 2023 00:17:21:\n",
      "\t findfont: Generic family 'sans-serif' not found because none of the following families were found: Arial \n",
      "\n",
      "WARNING @ Thu, 24 Aug 2023 00:17:21:\n",
      "\t findfont: Generic family 'sans-serif' not found because none of the following families were found: Arial \n",
      "\n",
      "WARNING @ Thu, 24 Aug 2023 00:17:21:\n",
      "\t findfont: Generic family 'sans-serif' not found because none of the following families were found: Arial \n",
      "\n",
      "WARNING @ Thu, 24 Aug 2023 00:17:21:\n",
      "\t findfont: Generic family 'sans-serif' not found because none of the following families were found: Arial \n",
      "\n",
      "WARNING @ Thu, 24 Aug 2023 00:17:21:\n",
      "\t findfont: Generic family 'sans-serif' not found because none of the following families were found: Arial \n",
      "\n",
      "WARNING @ Thu, 24 Aug 2023 00:17:21:\n",
      "\t findfont: Generic family 'sans-serif' not found because none of the following families were found: Arial \n",
      "\n",
      "WARNING @ Thu, 24 Aug 2023 00:17:21:\n",
      "\t findfont: Generic family 'sans-serif' not found because none of the following families were found: Arial \n",
      "\n",
      "WARNING @ Thu, 24 Aug 2023 00:17:21:\n",
      "\t findfont: Generic family 'sans-serif' not found because none of the following families were found: Arial \n",
      "\n",
      "WARNING @ Thu, 24 Aug 2023 00:17:21:\n",
      "\t findfont: Generic family 'sans-serif' not found because none of the following families were found: Arial \n",
      "\n",
      "WARNING @ Thu, 24 Aug 2023 00:17:21:\n",
      "\t findfont: Generic family 'sans-serif' not found because none of the following families were found: Arial \n",
      "\n",
      "WARNING @ Thu, 24 Aug 2023 00:17:21:\n",
      "\t findfont: Generic family 'sans-serif' not found because none of the following families were found: Arial \n",
      "\n",
      "WARNING @ Thu, 24 Aug 2023 00:17:21:\n",
      "\t findfont: Generic family 'sans-serif' not found because none of the following families were found: Arial \n",
      "\n",
      "WARNING @ Thu, 24 Aug 2023 00:17:21:\n",
      "\t findfont: Generic family 'sans-serif' not found because none of the following families were found: Arial \n",
      "\n",
      "WARNING @ Thu, 24 Aug 2023 00:17:21:\n",
      "\t findfont: Generic family 'sans-serif' not found because none of the following families were found: Arial \n",
      "\n",
      "WARNING @ Thu, 24 Aug 2023 00:17:21:\n",
      "\t findfont: Generic family 'sans-serif' not found because none of the following families were found: Arial \n",
      "\n",
      "WARNING @ Thu, 24 Aug 2023 00:17:21:\n",
      "\t findfont: Generic family 'sans-serif' not found because none of the following families were found: Arial \n",
      "\n",
      "WARNING @ Thu, 24 Aug 2023 00:17:21:\n",
      "\t findfont: Generic family 'sans-serif' not found because none of the following families were found: Arial \n",
      "\n",
      "WARNING @ Thu, 24 Aug 2023 00:17:21:\n",
      "\t findfont: Generic family 'sans-serif' not found because none of the following families were found: Arial \n",
      "\n",
      "WARNING @ Thu, 24 Aug 2023 00:17:21:\n",
      "\t findfont: Generic family 'sans-serif' not found because none of the following families were found: Arial \n",
      "\n",
      "WARNING @ Thu, 24 Aug 2023 00:17:21:\n",
      "\t findfont: Generic family 'sans-serif' not found because none of the following families were found: Arial \n",
      "\n",
      "WARNING @ Thu, 24 Aug 2023 00:17:21:\n",
      "\t findfont: Generic family 'sans-serif' not found because none of the following families were found: Arial \n",
      "\n"
     ]
    },
    {
     "data": {
      "image/png": "[encoded data removed]",
      "text/plain": [
       "<Figure size 720x288 with 2 Axes>"
      ]
     },
     "metadata": {},
     "output_type": "display_data"
    }
   ],
   "source": [
    "fig, ax = plt.subplots(1, 2, figsize=(10, 4))\n",
    "sns.histplot(recomb_rates_by_guide, ax = ax[0])\n",
    "ax[0].text(0.7, 0.9, f\"n={sum(~np.isnan(recomb_rates_by_guide))}\", transform=ax[0].transAxes)\n",
    "ax[0].set_title(\"Per-guide median recombination rate\")\n",
    "\n",
    "sns.histplot(recomb_rates_by_sample, ax = ax[1])\n",
    "ax[1].text(0.8, 0.9, f\"n={sum(~np.isnan(recomb_rates_by_sample))}\", transform=ax[1].transAxes)\n",
    "ax[1].set_title(\"Per-sample median recombination rate\")\n",
    "\n",
    "plt.setp(ax, xlim=(0, 1))\n",
    "plt.tight_layout()\n",
    "fig.savefig(\"S_recombination_rates_cds.pdf\")"
   ]
  }
 ],
 "metadata": {
  "kernelspec": {
   "display_name": "jy_anbe_py38",
   "language": "python",
   "name": "jy_anbe_py38"
  },
  "language_info": {
   "codemirror_mode": {
    "name": "ipython",
    "version": 3
   },
   "file_extension": ".py",
   "mimetype": "text/x-python",
   "name": "python",
   "nbconvert_exporter": "python",
   "pygments_lexer": "ipython3",
   "version": "3.8.12"
  }
 },
 "nbformat": 4,
 "nbformat_minor": 5
}
