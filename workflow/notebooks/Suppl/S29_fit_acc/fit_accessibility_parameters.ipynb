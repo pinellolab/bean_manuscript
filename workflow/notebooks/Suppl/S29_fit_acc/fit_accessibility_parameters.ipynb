{
 "cells": [
  {
   "cell_type": "markdown",
   "metadata": {},
   "source": [
    "Compare the reporter editing allele vs endogenous target site allele.\n"
   ]
  },
  {
   "cell_type": "code",
   "execution_count": 1,
   "metadata": {},
   "outputs": [
    {
     "name": "stderr",
     "output_type": "stream",
     "text": [
      "/data/pinello/SHARED_SOFTWARE/anaconda_latest/envs/jy_anbe_py38/lib/python3.8/site-packages/statsmodels/tsa/base/tsa_model.py:7: FutureWarning: pandas.Int64Index is deprecated and will be removed from pandas in a future version. Use pandas.Index with the appropriate dtype instead.\n",
      "  from pandas import (to_datetime, Int64Index, DatetimeIndex, Period,\n",
      "/data/pinello/SHARED_SOFTWARE/anaconda_latest/envs/jy_anbe_py38/lib/python3.8/site-packages/statsmodels/tsa/base/tsa_model.py:7: FutureWarning: pandas.Float64Index is deprecated and will be removed from pandas in a future version. Use pandas.Index with the appropriate dtype instead.\n",
      "  from pandas import (to_datetime, Int64Index, DatetimeIndex, Period,\n"
     ]
    }
   ],
   "source": [
    "import os\n",
    "from copy import deepcopy\n",
    "import numpy as np\n",
    "import pandas as pd\n",
    "import pyBigWig\n",
    "import statsmodels.api as sm\n",
    "import statsmodels.formula.api as smf\n",
    "import pickle as pkl\n",
    "\n",
    "import seaborn as sns\n",
    "import matplotlib\n",
    "import matplotlib.pyplot as plt\n",
    "from mpl_toolkits.axes_grid1 import make_axes_locatable\n",
    "\n",
    "import anndata as ad\n",
    "import bean as be\n",
    "from bean.framework._supporting_fn import filter_allele_by_pos\n",
    "from bean.framework.filter_alleles import _map_alleles_to_filtered, _distribute_alleles_to_filtered\n",
    "from bean import Allele,Edit"
   ]
  },
  {
   "cell_type": "code",
   "execution_count": 22,
   "metadata": {},
   "outputs": [],
   "source": [
    "def format_special_chars(str_series):\n",
    "    str_series = str_series.map(lambda s: s.replace(\"+\", '_').replace(\"'\", \"_\").replace(\" \", '-'))\n",
    "    return(str_series)\n",
    "\n",
    "def load_data(sublibrary):\n",
    "    endo = be.read_h5ad(\"../results/mapped/minitiling/endo/Sub{}.h5ad\".format(sublibrary))\n",
    "    endo.uns['allele_counts'] = endo.uns['allele_counts'].loc[endo.uns['allele_counts'].allele.map(str)!=\"\"]\n",
    "    endo.condit[\"rep\"] = endo.condit.index.map(lambda s: s.rsplit(\"_\")[-1])\n",
    "    endo.layers['X_bcmatch'] = endo.X\n",
    "    if 'name' in endo.guides.columns:\n",
    "        endo.guides = endo.guides.set_index(\"name\")\n",
    "    endo.condit['rep'] = endo.condit.index.map(lambda s: s.rsplit(\"_\")[-1])\n",
    "    endo_adata = endo[:,endo.condit.rep != \"Ctrl\"].copy()\n",
    "    ctrl_adata = endo[:,endo.condit.rep == \"Ctrl\"].copy()\n",
    "\n",
    "    #_, endo_adata.uns['sig_allele_counts'] = be.filter_alleles(endo_adata, ctrl_adata, filter_each_sample = True)\n",
    "\n",
    "    reporter = be.read_h5ad(\"../results/mapped/minitiling/guide_reporter/Sub{l}/beret_count_Sub{l}.h5ad\".format(l=sublibrary))\n",
    "\n",
    "    reporter.guides.index = format_special_chars(reporter.guides.index)\n",
    "    reporter.uns['allele_counts'].guide = format_special_chars(reporter.uns['allele_counts'].guide)\n",
    "    guide_depth = reporter[endo_adata.guides.index, :].X\n",
    "\n",
    "    endo_adata.layers['repscreen_X'] = guide_depth\n",
    "    endo_adata.layers['X_bcmatch'] = endo_adata.layers['repscreen_X']/endo_adata.layers['repscreen_X'].sum(axis=0)*endo_adata.X\n",
    "    endo_adata.guides = endo_adata.guides.merge(reporter.guides.reset_index()[['name','sequence','guide_len']],\n",
    "                                            on='name', how='left')\n",
    "    return(endo_adata, reporter)"
   ]
  },
  {
   "cell_type": "code",
   "execution_count": 354,
   "metadata": {},
   "outputs": [],
   "source": [
    "def get_guide_rel_pos(adata, row):\n",
    "    guide_len = adata.guides.loc[row.guide, \"guide_len\"]\n",
    "    guide_start_pos = 32-6-guide_len\n",
    "    edits = []\n",
    "    for edit in deepcopy(row.allele.edits):\n",
    "        edit.rel_pos -= guide_start_pos\n",
    "        if edit.rel_pos < 0 or edit.rel_pos > guide_len: continue\n",
    "        edit.pos = edit.rel_pos\n",
    "        if edit.ref_base == \"A\" and edit.alt_base == \"G\":\n",
    "            edits.append(edit)\n",
    "    return(be.Allele(edits))\n",
    "\n",
    "def filter_reporter_allele(reporter_adata, reporter_df):\n",
    "    reporter_sig = reporter_df.copy()\n",
    "    reporter_sig['allele_conv'] = reporter_sig.apply(lambda row:get_guide_rel_pos(reporter_adata, row), axis=1)\n",
    "    reporter_sig = reporter_sig.loc[reporter_sig.allele_conv.map(str) != \"\"]\n",
    "    reporter_sig = reporter_sig[['guide', 'allele_conv'] + reporter_adata.condit.index.tolist()]\n",
    "    reporter_sig = reporter_sig.rename(columns={'allele_conv' : 'allele'}).fillna(0)\n",
    "    reporter_sig = reporter_sig.groupby(['guide', 'allele']).sum().reset_index()\n",
    "    return(reporter_sig)\n",
    "\n",
    "\n",
    "def get_edit_rates(reporter_adata):\n",
    "    reporter_adata.uns['allele_counts_filtered'] = filter_reporter_allele(reporter_adata, reporter_adata.uns['allele_counts'])\n",
    "    reporter_allele_rate = reporter_adata.get_normalized_allele_counts(reporter_adata.uns['allele_counts_filtered'])\n",
    "    reporter_edits = reporter_adata.get_edit_from_allele('allele_counts_filtered')\n",
    "    reporter_edit_rate = reporter_adata.get_normalized_allele_counts(reporter_edits)\n",
    "    return reporter_allele_rate, reporter_edit_rate\n",
    "\n"
   ]
  },
  {
   "cell_type": "markdown",
   "metadata": {},
   "source": [
    "## Process endo\n"
   ]
  },
  {
   "cell_type": "code",
   "execution_count": 25,
   "metadata": {},
   "outputs": [],
   "source": [
    "lib_direction={\"A\":\"pos\", \"B\":\"pos\", \"C\":\"neg\", \"D\":\"neg\"}\n",
    "def filter_endo_alleles(row, guide_df, lib):\n",
    "    strand = row.guide.rsplit(\"_\")[-1]\n",
    "    if strand == lib_direction[lib]:\n",
    "        target_ref = \"A\"\n",
    "        target_alt = \"G\"\n",
    "    elif strand != lib_direction[lib]:\n",
    "        target_ref = \"T\"\n",
    "        target_alt = \"C\"\n",
    "    edits = []\n",
    "    for edit in deepcopy(row.allele.edits):\n",
    "        if edit.ref_base == target_ref and edit.alt_base == target_alt:\n",
    "            if guide_df.loc[guide_df.name == row.guide, 'guide_len'].item() != 20:\n",
    "                if strand == lib_direction[lib]:\n",
    "                    edit.rel_pos -= 1\n",
    "                    edit.pos -= 1\n",
    "            if strand != lib_direction[lib]:\n",
    "                edit.rel_pos = guide_df.loc[guide_df.name == row.guide, 'guide_len'\n",
    "                                           ].item()-1-edit.rel_pos\n",
    "                edit.pos = edit.rel_pos\n",
    "                edit.ref_base='A'\n",
    "                edit.alt_base='G'\n",
    "            if strand == \"neg\":\n",
    "                edit.strand = '-'\n",
    "            edits.append(edit)\n",
    "        else: continue\n",
    "    return(be.Allele(edits))\n",
    "\n",
    "def filter_endo_edits(row, guide_df, lib):\n",
    "    strand = row.guide.rsplit(\"_\")[-1]\n",
    "    if strand == lib_direction[lib]:\n",
    "        target_ref = \"A\"\n",
    "        target_alt = \"G\"\n",
    "    elif strand != lib_direction[lib]:\n",
    "        target_ref = \"T\"\n",
    "        target_alt = \"C\"\n",
    "    edit = deepcopy(row.edit)\n",
    "    \n",
    "    if edit.ref_base == target_ref and edit.alt_base == target_alt:\n",
    "        if guide_df.loc[guide_df.name == row.guide, 'guide_len'].item() != 20:\n",
    "            if strand == lib_direction[lib]:\n",
    "                edit.rel_pos -= 1\n",
    "                edit.pos -= 1\n",
    "        if strand != lib_direction[lib]:\n",
    "            edit.rel_pos = guide_df.loc[guide_df.name == row.guide, 'guide_len'\n",
    "                                       ].item()-1-edit.rel_pos\n",
    "            edit.pos = edit.rel_pos\n",
    "            edit.ref_base='A'\n",
    "            edit.alt_base='G'\n",
    "        if strand == \"neg\":\n",
    "            edit.strand = '-'\n",
    "    return(edit)\n",
    "\n",
    "def get_endo_edit_rates_sig(endo_adata, lib):\n",
    "#     try:\n",
    "#         endo_adata.condit = endo_adata.condit.reset_index()\n",
    "#     except:\n",
    "#         pass\n",
    "    endo_sig = endo_adata.uns['sig_allele_counts'].fillna(0).copy()\n",
    "    endo_sig['allele_conv'] = endo_sig.apply(\n",
    "        lambda r: filter_endo_alleles(r, endo_adata.guides, lib),\n",
    "                                             axis=1)\n",
    "    endo_sig = endo_sig.loc[endo_sig.allele_conv.map(str) != '', :].drop('allele', axis=1).rename(\n",
    "        columns={'allele_conv':'allele'}).groupby(['guide', 'allele']).sum().reset_index()\n",
    "    endo_allele_rate = endo_adata.get_normalized_allele_counts(endo_sig)\n",
    "    endo_adata.uns['sig_allele_counts_filtered'] = endo_sig\n",
    "    endo_edits = endo_adata.get_edit_from_allele('sig_allele_counts_filtered')\n",
    "    endo_edit_rate = endo_adata.get_normalized_allele_counts(endo_edits)\n",
    "    return(endo_allele_rate, endo_edit_rate)\n",
    "\n",
    "def get_endo_edit_rates(endo_adata, lib):\n",
    "#     try:\n",
    "#         endo_adata.condit = endo_adata.condit.reset_index()\n",
    "#     except:\n",
    "#         pass\n",
    "    endo_sig = endo_adata.uns['allele_counts'].fillna(0).copy()\n",
    "    endo_sig['allele_conv'] = endo_sig.apply(\n",
    "        lambda r: filter_endo_alleles(r, endo_adata.guides, lib),\n",
    "                                             axis=1)\n",
    "    endo_sig = endo_sig.loc[endo_sig.allele_conv.map(str) != '', :].drop('allele', axis=1).rename(\n",
    "        columns={'allele_conv':'allele'}).groupby(['guide', 'allele']).sum().reset_index()\n",
    "    endo_allele_rate = endo_adata.get_normalized_allele_counts(endo_sig)\n",
    "    endo_adata.uns['allele_counts_conv'] = endo_sig\n",
    "    \n",
    "    endo_edits = endo_adata.get_edit_from_allele('allele_counts')\n",
    "    endo_edits['edit_conv'] = endo_edits.apply(lambda r: filter_endo_edits(r, endo_adata.guides, lib), axis=1)\n",
    "    endo_edits = endo_edits.loc[endo_edits.edit_conv.map(str) != '', :].drop('edit', axis=1).rename(\n",
    "        columns={'edit_conv':'edit'}).groupby(['guide', 'edit']).sum().reset_index()\n",
    "    endo_edit_rate = endo_adata.get_normalized_allele_counts(endo_edits)\n",
    "    return(endo_allele_rate, endo_edit_rate)"
   ]
  },
  {
   "cell_type": "code",
   "execution_count": 355,
   "metadata": {},
   "outputs": [],
   "source": [
    "endo_edits = endo_adatas[-1].get_edit_from_allele('allele_counts')\n",
    "endo_edits['edit_conv'] = endo_edits.apply(lambda r: filter_endo_edits(r, endo_adatas[-1].guides, \"D\"), axis=1)\n",
    "endo_edits = endo_edits.loc[endo_edits.edit_conv.map(str) != '', :].drop('edit', axis=1).rename(\n",
    "    columns={'edit_conv':'edit'}).groupby(['guide', 'edit']).sum().reset_index()\n",
    "endo_edit_rate = endo_adatas[-1].get_normalized_allele_counts(endo_edits)\n"
   ]
  },
  {
   "cell_type": "markdown",
   "metadata": {},
   "source": [
    "## Combine\n"
   ]
  },
  {
   "cell_type": "code",
   "execution_count": 27,
   "metadata": {
    "scrolled": true
   },
   "outputs": [],
   "source": [
    "sublibraries = [\"A_Q5\", \"B_Q5\", \"C_Q5\", \"C_Q5U\", \"D_Q5\", \"D_Q5U\"]\n",
    "endo_adatas, reporter_adatas = zip(*[load_data(s) for s in sublibraries])"
   ]
  },
  {
   "cell_type": "code",
   "execution_count": 82,
   "metadata": {},
   "outputs": [
    {
     "data": {
      "text/html": [
       "<div>\n",
       "<style scoped>\n",
       "    .dataframe tbody tr th:only-of-type {\n",
       "        vertical-align: middle;\n",
       "    }\n",
       "\n",
       "    .dataframe tbody tr th {\n",
       "        vertical-align: top;\n",
       "    }\n",
       "\n",
       "    .dataframe thead th {\n",
       "        text-align: right;\n",
       "    }\n",
       "</style>\n",
       "<table border=\"1\" class=\"dataframe\">\n",
       "  <thead>\n",
       "    <tr style=\"text-align: right;\">\n",
       "      <th></th>\n",
       "      <th>guide</th>\n",
       "      <th>allele</th>\n",
       "      <th>SubA_Q5_rep1</th>\n",
       "      <th>SubA_Q5_rep2</th>\n",
       "      <th>SubA_Q5_rep3</th>\n",
       "    </tr>\n",
       "  </thead>\n",
       "  <tbody>\n",
       "    <tr>\n",
       "      <th>0</th>\n",
       "      <td>Intron-1-DNaseHS-1_5314_pos</td>\n",
       "      <td>14:14:+:G&gt;C</td>\n",
       "      <td>16</td>\n",
       "      <td>20</td>\n",
       "      <td>18</td>\n",
       "    </tr>\n",
       "    <tr>\n",
       "      <th>1</th>\n",
       "      <td>Intron-1-DNaseHS-1_5314_pos</td>\n",
       "      <td>19:19:+:G&gt;C</td>\n",
       "      <td>26</td>\n",
       "      <td>24</td>\n",
       "      <td>38</td>\n",
       "    </tr>\n",
       "    <tr>\n",
       "      <th>2</th>\n",
       "      <td>Intron-1-DNaseHS-1_5314_pos</td>\n",
       "      <td>12:12:+:G&gt;C</td>\n",
       "      <td>39</td>\n",
       "      <td>57</td>\n",
       "      <td>43</td>\n",
       "    </tr>\n",
       "    <tr>\n",
       "      <th>3</th>\n",
       "      <td>Intron-1-DNaseHS-1_5314_pos</td>\n",
       "      <td>2:2:+:G&gt;C</td>\n",
       "      <td>17</td>\n",
       "      <td>23</td>\n",
       "      <td>20</td>\n",
       "    </tr>\n",
       "    <tr>\n",
       "      <th>4</th>\n",
       "      <td>Intron-1-DNaseHS-1_5314_pos</td>\n",
       "      <td>1:1:+:G&gt;C</td>\n",
       "      <td>23</td>\n",
       "      <td>25</td>\n",
       "      <td>29</td>\n",
       "    </tr>\n",
       "    <tr>\n",
       "      <th>...</th>\n",
       "      <td>...</td>\n",
       "      <td>...</td>\n",
       "      <td>...</td>\n",
       "      <td>...</td>\n",
       "      <td>...</td>\n",
       "    </tr>\n",
       "    <tr>\n",
       "      <th>16430</th>\n",
       "      <td>Intron-1-DNaseHS-1_5422_neg</td>\n",
       "      <td>0:0:+:G&gt;A,2:2:+:G&gt;-,3:3:+:G&gt;-,4:4:+:A&gt;-,5:5:+:...</td>\n",
       "      <td>0</td>\n",
       "      <td>0</td>\n",
       "      <td>1</td>\n",
       "    </tr>\n",
       "    <tr>\n",
       "      <th>16431</th>\n",
       "      <td>Intron-1-DNaseHS-1_5422_neg</td>\n",
       "      <td>0:0:+:G&gt;A,1:1:+:G&gt;A,4:4:+:A&gt;-,5:5:+:G&gt;-,6:6:+:...</td>\n",
       "      <td>0</td>\n",
       "      <td>0</td>\n",
       "      <td>1</td>\n",
       "    </tr>\n",
       "    <tr>\n",
       "      <th>16432</th>\n",
       "      <td>Intron-1-DNaseHS-1_5422_neg</td>\n",
       "      <td>0:0:+:G&gt;A,2:2:+:G&gt;T,4:4:+:A&gt;-,5:5:+:G&gt;-,6:6:+:...</td>\n",
       "      <td>0</td>\n",
       "      <td>0</td>\n",
       "      <td>1</td>\n",
       "    </tr>\n",
       "    <tr>\n",
       "      <th>16433</th>\n",
       "      <td>Intron-1-DNaseHS-1_5422_neg</td>\n",
       "      <td>0:0:+:G&gt;-,1:1:+:G&gt;-,2:2:+:G&gt;-,3:3:+:G&gt;-,4:4:+:...</td>\n",
       "      <td>0</td>\n",
       "      <td>0</td>\n",
       "      <td>1</td>\n",
       "    </tr>\n",
       "    <tr>\n",
       "      <th>16434</th>\n",
       "      <td>Intron-1-DNaseHS-1_5422_neg</td>\n",
       "      <td>1:1:+:G&gt;-,2:2:+:G&gt;-,3:3:+:G&gt;-,4:4:+:A&gt;-,5:5:+:...</td>\n",
       "      <td>0</td>\n",
       "      <td>0</td>\n",
       "      <td>3</td>\n",
       "    </tr>\n",
       "  </tbody>\n",
       "</table>\n",
       "<p>16435 rows × 5 columns</p>\n",
       "</div>"
      ],
      "text/plain": [
       "                             guide  \\\n",
       "0      Intron-1-DNaseHS-1_5314_pos   \n",
       "1      Intron-1-DNaseHS-1_5314_pos   \n",
       "2      Intron-1-DNaseHS-1_5314_pos   \n",
       "3      Intron-1-DNaseHS-1_5314_pos   \n",
       "4      Intron-1-DNaseHS-1_5314_pos   \n",
       "...                            ...   \n",
       "16430  Intron-1-DNaseHS-1_5422_neg   \n",
       "16431  Intron-1-DNaseHS-1_5422_neg   \n",
       "16432  Intron-1-DNaseHS-1_5422_neg   \n",
       "16433  Intron-1-DNaseHS-1_5422_neg   \n",
       "16434  Intron-1-DNaseHS-1_5422_neg   \n",
       "\n",
       "                                                  allele  SubA_Q5_rep1  \\\n",
       "0                                            14:14:+:G>C            16   \n",
       "1                                            19:19:+:G>C            26   \n",
       "2                                            12:12:+:G>C            39   \n",
       "3                                              2:2:+:G>C            17   \n",
       "4                                              1:1:+:G>C            23   \n",
       "...                                                  ...           ...   \n",
       "16430  0:0:+:G>A,2:2:+:G>-,3:3:+:G>-,4:4:+:A>-,5:5:+:...             0   \n",
       "16431  0:0:+:G>A,1:1:+:G>A,4:4:+:A>-,5:5:+:G>-,6:6:+:...             0   \n",
       "16432  0:0:+:G>A,2:2:+:G>T,4:4:+:A>-,5:5:+:G>-,6:6:+:...             0   \n",
       "16433  0:0:+:G>-,1:1:+:G>-,2:2:+:G>-,3:3:+:G>-,4:4:+:...             0   \n",
       "16434  1:1:+:G>-,2:2:+:G>-,3:3:+:G>-,4:4:+:A>-,5:5:+:...             0   \n",
       "\n",
       "       SubA_Q5_rep2  SubA_Q5_rep3  \n",
       "0                20            18  \n",
       "1                24            38  \n",
       "2                57            43  \n",
       "3                23            20  \n",
       "4                25            29  \n",
       "...             ...           ...  \n",
       "16430             0             1  \n",
       "16431             0             1  \n",
       "16432             0             1  \n",
       "16433             0             1  \n",
       "16434             0             3  \n",
       "\n",
       "[16435 rows x 5 columns]"
      ]
     },
     "execution_count": 82,
     "metadata": {},
     "output_type": "execute_result"
    }
   ],
   "source": [
    "endo_adatas[0].uns['allele_counts']"
   ]
  },
  {
   "cell_type": "code",
   "execution_count": 28,
   "metadata": {},
   "outputs": [],
   "source": [
    "guide_info = pd.concat([reporter_adatas[i].guides for i in range(len(reporter_adatas))], axis=0)"
   ]
  },
  {
   "cell_type": "code",
   "execution_count": 29,
   "metadata": {},
   "outputs": [],
   "source": [
    "guide_info = guide_info.drop_duplicates()"
   ]
  },
  {
   "cell_type": "code",
   "execution_count": 176,
   "metadata": {},
   "outputs": [],
   "source": [
    "libraries=[\"A\",\"B\",\"C\",\"C\",\"D\",\"D\"]\n",
    "\n",
    "endo_allele_rates, endo_edit_rates = zip(*[\n",
    "    get_endo_edit_rates(endo_adatas[i],libraries[i]) for i in range(len(endo_adatas))])\n",
    "reporter_allele_rates, reporter_edit_rates = zip(*[get_edit_rates(r) for r in reporter_adatas])"
   ]
  },
  {
   "cell_type": "code",
   "execution_count": 30,
   "metadata": {},
   "outputs": [],
   "source": [
    "\n",
    "data_dict={\n",
    "    'sublibraries':sublibraries,\n",
    "    'endo_alelle_rates':endo_allele_rates,\n",
    "    'endo_edit_rates':endo_edit_rates,\n",
    "    'reporter_allele_rates':reporter_allele_rates,\n",
    "    'reporter_edit_rates':reporter_edit_rates,\n",
    "    'guide_info':guide_info\n",
    "}\n",
    "with open('mini_tiling_screen_data_endoUnfiltered_n20.pkl', 'wb') as handle:\n",
    "    pkl.dump(data_dict, handle)"
   ]
  },
  {
   "cell_type": "code",
   "execution_count": 22,
   "metadata": {},
   "outputs": [],
   "source": [
    "import pickle as pkl\n",
    "with open('mini_tiling_screen_data_endoUnfiltered_n20.pkl', 'rb') as handle:\n",
    "    data_dict = pkl.load(handle)\n",
    "sublibraries=data_dict['sublibraries']\n",
    "\n",
    "endo_allele_rates = data_dict['endo_alelle_rates']\n",
    "endo_edit_rates = data_dict['endo_edit_rates']\n",
    "\n",
    "reporter_allele_rates = data_dict['reporter_allele_rates']\n",
    "reporter_edit_rates = data_dict['reporter_edit_rates']"
   ]
  },
  {
   "cell_type": "code",
   "execution_count": 66,
   "metadata": {},
   "outputs": [],
   "source": [
    "def get_cmap(series):\n",
    "    df = pd.DataFrame(series)\n",
    "    df['c'] = sns.color_palette('tab10', len(df))\n",
    "    cmap = df.set_index(0).to_dict()['c']\n",
    "    return(cmap)"
   ]
  },
  {
   "cell_type": "code",
   "execution_count": 67,
   "metadata": {},
   "outputs": [],
   "source": [
    "def filter_allele_counts_by_pos(count_df,\n",
    "    rel_pos_start = 0, rel_pos_end = 32,\n",
    "    filter_rel_pos = True,\n",
    "    map_to_filtered = True, distribute = False,\n",
    "    jaccard_threshold = 0.1):\n",
    "    '''\n",
    "    Filter alleles based on barcode matched counts, allele counts, \n",
    "    or proportion\n",
    "\n",
    "    Keyword arguments:\n",
    "    map_to_filtered -- Map allele to the closest filtered allele to preserve total allele count. Ignores the case where there is no alleles filtered.\n",
    "    '''\n",
    "    allele_count_df = count_df.copy()\n",
    "    filtered_allele, filtered_edits = \\\n",
    "        zip(*allele_count_df.allele.map(lambda a:\n",
    "            filter_allele_by_pos(a, rel_pos_start, rel_pos_end, filter_rel_pos)))\n",
    "    allele_count_df.loc[:, \"allele\"] = filtered_allele\n",
    "    # Hashing on Allele object messes up the order. Converting it to str and back to allele for groupby.\n",
    "    allele_count_df[\"str_allele\"] = allele_count_df.allele.map(str)\n",
    "    allele_count_df = allele_count_df.groupby([\"guide\", \"str_allele\"]).sum().reset_index()\n",
    "    allele_count_df.insert(1, \"allele\", allele_count_df.str_allele.map(lambda s: Allele.from_str(s)))\n",
    "    allele_count_df = allele_count_df.drop(\"str_allele\", axis=1)\n",
    "    print(\"{} edits filtered from {} alleles.\".format(sum(filtered_edits), len(filtered_edits)))\n",
    "    if map_to_filtered:\n",
    "        print(\"mapping filtered alleles ...\")\n",
    "        if distribute:\n",
    "            allele_count_df = _distribute_alleles_to_filtered(count_df, allele_count_df, jaccard_threshold=jaccard_threshold)\n",
    "        else:\n",
    "            allele_count_df = _map_alleles_to_filtered(count_df, allele_count_df, jaccard_threshold=jaccard_threshold)\n",
    "    return(allele_count_df)\n",
    "    \n",
    "    "
   ]
  },
  {
   "cell_type": "code",
   "execution_count": 68,
   "metadata": {},
   "outputs": [],
   "source": [
    "def get_edit_from_allele(allele_df):\n",
    "    df = allele_df.copy()\n",
    "    df[\"edits\"] = df.allele.map(lambda a: str(a).split(\",\"))\n",
    "    df = df.explode(\"edits\").groupby([\"guide\", \"edits\"]).sum()\n",
    "    df = df.reset_index().rename(columns={\"edits\":\"edit\"})\n",
    "    df[\"edit\"] = df.edit.map(lambda s: Edit.from_str(s))\n",
    "    return(df)"
   ]
  },
  {
   "cell_type": "code",
   "execution_count": 69,
   "metadata": {},
   "outputs": [],
   "source": [
    "def get_filtered_allele_rates(i):\n",
    "    af = filter_allele_counts_by_pos(reporter_allele_rates[i], 3, 8)\n",
    "    ef = filter_allele_counts_by_pos(endo_allele_rates[i], 3, 8)\n",
    "    allele_rates = af.merge(ef, on=['guide', 'allele'],how='outer').fillna(0).sort_values('guide')\n",
    "    return(allele_rates)"
   ]
  },
  {
   "cell_type": "code",
   "execution_count": 70,
   "metadata": {},
   "outputs": [],
   "source": [
    "def filter_plot(i, rep=1):\n",
    "    af = filter_allele_counts_by_pos(reporter_allele_rates[i], 3, 8)\n",
    "    ef = filter_allele_counts_by_pos(endo_allele_rates[i], 3, 8)\n",
    "    allele_rates = af.merge(ef, on=['guide', 'allele'],how='outer').fillna(0).sort_values('guide').rename(columns={f'rep{rep}_Sub{sublibraries[i]}':\"reporter\", f'Sub{sublibraries[i]}_rep1':\"endo\"})\n",
    "    allele_rates['allele'] = allele_rates.allele.map(str)\n",
    "    fig=px.scatter(allele_rates, x='reporter', y='endo', \n",
    "          width=500,height=300, color='guide', hover_data=['allele'])\n",
    "    return(fig, allele_rates)"
   ]
  },
  {
   "cell_type": "code",
   "execution_count": 71,
   "metadata": {},
   "outputs": [],
   "source": [
    "markers_strand={\"pos\":\"P\", \"neg\":\"o\"}"
   ]
  },
  {
   "cell_type": "code",
   "execution_count": 63,
   "metadata": {},
   "outputs": [],
   "source": [
    "def filter_edit_plot(i,rep=1):\n",
    "    raf = filter_allele_counts_by_pos(reporter_allele_rates[i], 3, 8)\n",
    "    eaf = filter_allele_counts_by_pos(endo_allele_rates[i], 3, 8)\n",
    "    ref = get_edit_from_allele(raf)\n",
    "    eef = get_edit_from_allele(eaf)\n",
    "    edit_rates = ref.merge(eef, on=['guide', 'edit'],how='outer').fillna(0).sort_values('guide').sort_values('guide').rename(columns={f'rep{rep}_Sub{sublibraries[i]}':\"reporter\", f'Sub{sublibraries[i]}_rep1':\"endo\"}, )\n",
    "    edit_rates['edit'] = edit_rates.edit.map(str)\n",
    "    edit_rates['strand'] = edit_rates.guide.map(lambda s:markers_strand[s.rsplit(\"_\",1)[-1]])\n",
    "    fig=px.scatter(edit_rates, x='reporter', y='endo', title=f\"Sub{sublibraries[i]} rep{rep}\",width=550,height=400, color='guide', hover_data=['edit'], symbol='strand')\n",
    "    return(fig, edit_rates)"
   ]
  },
  {
   "cell_type": "code",
   "execution_count": 64,
   "metadata": {},
   "outputs": [],
   "source": [
    "def edit_plot(i, rep=1):\n",
    "    edit_rates = reporter_edit_rates[i].merge(endo_edit_rates[i], on=['guide', 'edit'], how='left').rename(columns={f'rep{rep}_Sub{sublibraries[i]}':\"reporter\", f'Sub{sublibraries[i]}_rep1':\"endo\"}, )\n",
    "    edit_rates['edit'] = edit_rates.edit.map(str)\n",
    "    edit_rates['strand'] = edit_rates.guide.map(lambda s:markers_strand[s.rsplit(\"_\",1)[-1]])\n",
    "    \n",
    "    fig=px.scatter(edit_rates, x='reporter', y='endo', title=f\"Sub{sublibraries[i]} rep{rep}\", width=550,height=400, color='guide', hover_data=['edit'])\n",
    "    return(fig)\n",
    "def allele_plot(i, rep=1):\n",
    "    allele_rates = reporter_allele_rates[i].merge(endo_allele_rates[i], on=['guide', 'allele'], how='left').rename(columns={f'rep{rep}_Sub{sublibraries[i]}':\"reporter\", f'Sub{sublibraries[i]}_rep1':\"endo\"}, )\n",
    "    allele_rates['allele'] = allele_rates.allele.map(str)\n",
    "    allele_rates['strand'] = allele_rates.guide.map(lambda s:markers_strand[s.rsplit(\"_\",1)[-1]])\n",
    "    \n",
    "    fig=px.scatter(allele_rates, x='reporter', y='endo', title=f\"Sub{sublibraries[i]} rep{rep}\", width=550,height=400, color='guide', hover_data=['allele'])\n",
    "    return(fig)"
   ]
  },
  {
   "cell_type": "code",
   "execution_count": 36,
   "metadata": {},
   "outputs": [],
   "source": [
    "def edits_normed_plot(i, rep=1):\n",
    "    fig, ers = filter_edit_plot(i, rep)\n",
    "    norm_df = ers.groupby('guide').transform(lambda x: x / x.max())\n",
    "    norm_df['guide'], norm_df['edit'] = ers['guide'], ers['edit']\n",
    "    norm_df['strand'] = norm_df.guide.map(lambda s:markers_strand[s.rsplit(\"_\",1)[-1]])\n",
    "    fig=px.scatter(norm_df, x='reporter', y='endo', title=f\"Sub{sublibraries[i]} rep{rep}\", width=550,height=400, color='guide', hover_data=['edit'], symbol='strand', labels={\"x\":\"normed reporter\", \"y\":\"normed endo\"})\n",
    "    return(fig, norm_df)"
   ]
  },
  {
   "cell_type": "code",
   "execution_count": 37,
   "metadata": {},
   "outputs": [],
   "source": [
    "def alleles_normed_plot(i, rep=1):\n",
    "    fig, ers = filter_plot(i, rep)\n",
    "    norm_df = ers.groupby('guide').transform(lambda x: x / x.max())\n",
    "    norm_df['guide'], norm_df['allele'] = ers['guide'], ers['allele']\n",
    "    norm_df['strand'] = norm_df.guide.map(lambda s:markers_strand[s.rsplit(\"_\",1)[-1]])\n",
    "    fig=px.scatter(norm_df, x='reporter', y='endo', title=f\"Sub{sublibraries[i]} rep{rep}\", width=550,height=400, color='guide', hover_data=['allele'], symbol='strand', labels={\"x\":\"normed reporter\", \"y\":\"normed endo\"})\n",
    "    return(fig, norm_df)"
   ]
  },
  {
   "cell_type": "code",
   "execution_count": 356,
   "metadata": {
    "scrolled": false
   },
   "outputs": [
    {
     "name": "stdout",
     "output_type": "stream",
     "text": [
      "111 edits filtered from 93 alleles.\n",
      "mapping filtered alleles ...\n"
     ]
    },
    {
     "data": {
      "application/vnd.jupyter.widget-view+json": {
       "model_id": "2e83cafa0d5943dc9432176af0aa9efa",
       "version_major": 2,
       "version_minor": 0
      },
      "text/plain": [
       "Mapping alleles to closest filtered alleles:   0%|          | 0/12 [00:00<?, ?it/s]"
      ]
     },
     "metadata": {},
     "output_type": "display_data"
    },
    {
     "name": "stdout",
     "output_type": "stream",
     "text": [
      "109 edits filtered from 111 alleles.\n",
      "mapping filtered alleles ...\n"
     ]
    },
    {
     "data": {
      "application/vnd.jupyter.widget-view+json": {
       "model_id": "2251262f6fdf44e7bc3d6a908f2e50a2",
       "version_major": 2,
       "version_minor": 0
      },
      "text/plain": [
       "Mapping alleles to closest filtered alleles:   0%|          | 0/12 [00:00<?, ?it/s]"
      ]
     },
     "metadata": {},
     "output_type": "display_data"
    },
    {
     "name": "stdout",
     "output_type": "stream",
     "text": [
      "736 edits filtered from 371 alleles.\n",
      "mapping filtered alleles ...\n"
     ]
    },
    {
     "data": {
      "application/vnd.jupyter.widget-view+json": {
       "model_id": "989b6481246049d3964e2abe2c6b62cc",
       "version_major": 2,
       "version_minor": 0
      },
      "text/plain": [
       "Mapping alleles to closest filtered alleles:   0%|          | 0/11 [00:00<?, ?it/s]"
      ]
     },
     "metadata": {},
     "output_type": "display_data"
    },
    {
     "name": "stdout",
     "output_type": "stream",
     "text": [
      "503 edits filtered from 336 alleles.\n",
      "mapping filtered alleles ...\n"
     ]
    },
    {
     "data": {
      "application/vnd.jupyter.widget-view+json": {
       "model_id": "5ae533cb25224cd3a2ad4d64737cf07d",
       "version_major": 2,
       "version_minor": 0
      },
      "text/plain": [
       "Mapping alleles to closest filtered alleles:   0%|          | 0/11 [00:00<?, ?it/s]"
      ]
     },
     "metadata": {},
     "output_type": "display_data"
    },
    {
     "name": "stdout",
     "output_type": "stream",
     "text": [
      "228 edits filtered from 171 alleles.\n",
      "mapping filtered alleles ...\n"
     ]
    },
    {
     "data": {
      "application/vnd.jupyter.widget-view+json": {
       "model_id": "7491b2b3d6764b779e8c0d96272c5ed9",
       "version_major": 2,
       "version_minor": 0
      },
      "text/plain": [
       "Mapping alleles to closest filtered alleles:   0%|          | 0/14 [00:00<?, ?it/s]"
      ]
     },
     "metadata": {},
     "output_type": "display_data"
    },
    {
     "name": "stdout",
     "output_type": "stream",
     "text": [
      "242 edits filtered from 220 alleles.\n",
      "mapping filtered alleles ...\n"
     ]
    },
    {
     "data": {
      "application/vnd.jupyter.widget-view+json": {
       "model_id": "95f32d70c59d4e1daaa3d467c1b01db4",
       "version_major": 2,
       "version_minor": 0
      },
      "text/plain": [
       "Mapping alleles to closest filtered alleles:   0%|          | 0/14 [00:00<?, ?it/s]"
      ]
     },
     "metadata": {},
     "output_type": "display_data"
    },
    {
     "name": "stdout",
     "output_type": "stream",
     "text": [
      "212 edits filtered from 164 alleles.\n",
      "mapping filtered alleles ...\n"
     ]
    },
    {
     "data": {
      "application/vnd.jupyter.widget-view+json": {
       "model_id": "1403bbc02b64467db2339a4b0db75d55",
       "version_major": 2,
       "version_minor": 0
      },
      "text/plain": [
       "Mapping alleles to closest filtered alleles:   0%|          | 0/14 [00:00<?, ?it/s]"
      ]
     },
     "metadata": {},
     "output_type": "display_data"
    },
    {
     "name": "stdout",
     "output_type": "stream",
     "text": [
      "222 edits filtered from 204 alleles.\n",
      "mapping filtered alleles ...\n"
     ]
    },
    {
     "data": {
      "application/vnd.jupyter.widget-view+json": {
       "model_id": "803e3476c2b945cab937232c6fd97d39",
       "version_major": 2,
       "version_minor": 0
      },
      "text/plain": [
       "Mapping alleles to closest filtered alleles:   0%|          | 0/14 [00:00<?, ?it/s]"
      ]
     },
     "metadata": {},
     "output_type": "display_data"
    },
    {
     "name": "stdout",
     "output_type": "stream",
     "text": [
      "485 edits filtered from 291 alleles.\n",
      "mapping filtered alleles ...\n"
     ]
    },
    {
     "data": {
      "application/vnd.jupyter.widget-view+json": {
       "model_id": "2d638e7b6fd34b6b817c4a7b2bd90516",
       "version_major": 2,
       "version_minor": 0
      },
      "text/plain": [
       "Mapping alleles to closest filtered alleles:   0%|          | 0/12 [00:00<?, ?it/s]"
      ]
     },
     "metadata": {},
     "output_type": "display_data"
    },
    {
     "name": "stdout",
     "output_type": "stream",
     "text": [
      "191 edits filtered from 168 alleles.\n",
      "mapping filtered alleles ...\n"
     ]
    },
    {
     "data": {
      "application/vnd.jupyter.widget-view+json": {
       "model_id": "2c4c2bf4ba9d4deea57af3ce87538247",
       "version_major": 2,
       "version_minor": 0
      },
      "text/plain": [
       "Mapping alleles to closest filtered alleles:   0%|          | 0/12 [00:00<?, ?it/s]"
      ]
     },
     "metadata": {},
     "output_type": "display_data"
    },
    {
     "name": "stdout",
     "output_type": "stream",
     "text": [
      "447 edits filtered from 273 alleles.\n",
      "mapping filtered alleles ...\n"
     ]
    },
    {
     "data": {
      "application/vnd.jupyter.widget-view+json": {
       "model_id": "a0bec785f9254a4c8d82e50e05645aa6",
       "version_major": 2,
       "version_minor": 0
      },
      "text/plain": [
       "Mapping alleles to closest filtered alleles:   0%|          | 0/12 [00:00<?, ?it/s]"
      ]
     },
     "metadata": {},
     "output_type": "display_data"
    },
    {
     "name": "stdout",
     "output_type": "stream",
     "text": [
      "181 edits filtered from 159 alleles.\n",
      "mapping filtered alleles ...\n"
     ]
    },
    {
     "data": {
      "application/vnd.jupyter.widget-view+json": {
       "model_id": "b5196e8ff13b41dab3f2d24420f68bb8",
       "version_major": 2,
       "version_minor": 0
      },
      "text/plain": [
       "Mapping alleles to closest filtered alleles:   0%|          | 0/12 [00:00<?, ?it/s]"
      ]
     },
     "metadata": {},
     "output_type": "display_data"
    },
    {
     "data": {
      "image/png": "[encoded data removed]",
      "text/plain": [
       "<Figure size 864x1296 with 24 Axes>"
      ]
     },
     "metadata": {},
     "output_type": "display_data"
    }
   ],
   "source": [
    "markers=[\"o\",\"P\", \"D\"]\n",
    "markers_strand={\"pos\":\"P\", \"neg\":\"o\"}\n",
    "fig, ax = plt.subplots(6, 4, figsize=(12, 18), sharex=True, sharey=True,)\n",
    "edit_rates_list = []\n",
    "window_edit_rates_list = []\n",
    "ax[0, 0].set_title(\"Allele editing rate\")\n",
    "ax[0, 1].set_title(\"Allele editing rate (P4-8)\")\n",
    "ax[0, 2].set_title(\"Editing rate\")\n",
    "ax[0, 3].set_title(\"Editing rate (P4-8)\")\n",
    "allele_rates_list = []\n",
    "for i in range(len(endo_allele_rates)):\n",
    "    allele_rates = reporter_allele_rates[i].merge(endo_allele_rates[i], on=['guide', 'allele'], how='left').fillna(0).sort_values('guide')\n",
    "    allele_rates_list.append(allele_rates)\n",
    "    color_map = get_cmap(allele_rates['guide'].unique())\n",
    "    allele_rates_window = get_filtered_allele_rates(i)\n",
    "    allele_rates['strand'] = allele_rates.guide.map(lambda s: s.split(\"_\")[-1])\n",
    "    allele_rates_window['strand'] = allele_rates_window.guide.map(lambda s: s.split(\"_\")[-1])\n",
    "    ax[i, 0].set_ylabel(\"Sub{}\".format(sublibraries[i]))\n",
    "    ax[i, 1].set_ylabel(\"Sub{}\".format(sublibraries[i]))\n",
    "    for j, rep in enumerate(['rep1', 'rep2', 'rep3']):\n",
    "        sns.scatterplot(data=allele_rates, x='{}_Sub{}'.format(rep, sublibraries[i]), \n",
    "                         y='Sub{}_{}'.format(sublibraries[i], rep),\n",
    "                       hue='guide',\n",
    "                        palette=color_map,\n",
    "                       style='strand', markers= markers_strand,\n",
    "                       ax=ax[i, 0],\n",
    "                       legend=False)\n",
    "        sns.scatterplot(data=allele_rates_window, x='{}_Sub{}'.format(rep, sublibraries[i]), \n",
    "                         y='Sub{}_{}'.format(sublibraries[i], rep),\n",
    "                       hue='guide',\n",
    "                        palette=color_map,\n",
    "                       style='strand', markers= markers_strand,\n",
    "                       ax=ax[i, 1],\n",
    "                       legend=False)\n",
    "        #ax[i, 0].set_xlabel(\"reporter site allele proportion\")\n",
    "        #ax[i, 0].set_ylabel('endogenous target site allele proportion')\n",
    "    edit_rates = reporter_edit_rates[i].merge(endo_edit_rates[i], on=['guide', 'edit'],\n",
    "                                             how='outer').fillna(0).sort_values('guide')\n",
    "    \n",
    "    edit_rates['strand'] = edit_rates.guide.map(lambda s: s.split(\"_\")[-1])\n",
    "    edit_rates_w = edit_rates.loc[edit_rates.edit.map(lambda e: (e.rel_pos < 8 and e.rel_pos >= 3) & ((e.ref_base == \"A\") & (e.alt_base == \"G\"))),]\n",
    "    edit_rates_list.append(edit_rates)\n",
    "    window_edit_rates_list.append(edit_rates_w)    \n",
    "    for j, rep in enumerate(['rep1', 'rep2', 'rep3']):\n",
    "        sns.scatterplot(data=edit_rates, x='{}_Sub{}'.format(rep, sublibraries[i]), \n",
    "                         y='Sub{}_{}'.format(sublibraries[i], rep),\n",
    "                       ax=ax[i, 2],\n",
    "                       hue=\"guide\", \n",
    "                        palette=color_map,\n",
    "                       #marker=markers[j],\n",
    "                       style='strand', markers= markers_strand,\n",
    "                       legend=False)\n",
    "        sns.scatterplot(data=edit_rates_w,\n",
    "                        x='{}_Sub{}'.format(rep, sublibraries[i]), \n",
    "                 y='Sub{}_{}'.format(sublibraries[i], rep),\n",
    "               ax=ax[i, 3],\n",
    "               hue=\"guide\", \n",
    "                        palette=color_map,\n",
    "               #marker=markers[j],\n",
    "                    style='strand',\n",
    "                markers= markers_strand,\n",
    "               legend=False)\n",
    "        #ax[i, 1].legend(bbox_to_anchor=(1.02, 1), loc='upper left', borderaxespad=0)\n",
    "        #ax[i, 1].set_xlabel(\"reporter site edit proportion\")\n",
    "        #ax[i, 1].set_ylabel('endogenous target site edit proportion')\n",
    "plt.setp(ax, ylim=(0,1),xlim=(0,1))\n",
    "fig.text(0.5, 0, 'Reporter', ha='center')\n",
    "fig.text(-0.04, 0.5, 'Endogenous target site', va='center', rotation='vertical')\n",
    "plt.tight_layout()"
   ]
  },
  {
   "cell_type": "code",
   "execution_count": 345,
   "metadata": {},
   "outputs": [],
   "source": [
    "edit_rates_window_list = [edit_rates.loc[edit_rates.edit.map(lambda e: e.rel_pos < 8 and e.rel_pos >= 3)] for edit_rates in edit_rates_list]"
   ]
  },
  {
   "cell_type": "code",
   "execution_count": 46,
   "metadata": {},
   "outputs": [],
   "source": [
    "def wide_to_long(df):\n",
    "    df_list = []\n",
    "    lib = df.columns[2].split(\"_Sub\")[-1]\n",
    "    for rep in range(1, 4):\n",
    "        rep_df = df[['guide', 'edit', 'strand'] + [f\"rep{rep}_Sub{lib}\", f\"Sub{lib}_rep{rep}\"]]\n",
    "        rep_df.columns=['guide', 'edit', 'strand', 'reporter', 'endo']\n",
    "        rep_df['rep'] = rep   \n",
    "        rep_df['lib'] = lib\n",
    "        df_list.append(rep_df)\n",
    "    return pd.concat(df_list)\n"
   ]
  },
  {
   "cell_type": "code",
   "execution_count": 47,
   "metadata": {},
   "outputs": [
    {
     "name": "stderr",
     "output_type": "stream",
     "text": [
      "<ipython-input-46-8de350015ef1>:7: SettingWithCopyWarning:\n",
      "\n",
      "\n",
      "A value is trying to be set on a copy of a slice from a DataFrame.\n",
      "Try using .loc[row_indexer,col_indexer] = value instead\n",
      "\n",
      "See the caveats in the documentation: https://pandas.pydata.org/pandas-docs/stable/user_guide/indexing.html#returning-a-view-versus-a-copy\n",
      "\n",
      "<ipython-input-46-8de350015ef1>:8: SettingWithCopyWarning:\n",
      "\n",
      "\n",
      "A value is trying to be set on a copy of a slice from a DataFrame.\n",
      "Try using .loc[row_indexer,col_indexer] = value instead\n",
      "\n",
      "See the caveats in the documentation: https://pandas.pydata.org/pandas-docs/stable/user_guide/indexing.html#returning-a-view-versus-a-copy\n",
      "\n",
      "<ipython-input-46-8de350015ef1>:7: SettingWithCopyWarning:\n",
      "\n",
      "\n",
      "A value is trying to be set on a copy of a slice from a DataFrame.\n",
      "Try using .loc[row_indexer,col_indexer] = value instead\n",
      "\n",
      "See the caveats in the documentation: https://pandas.pydata.org/pandas-docs/stable/user_guide/indexing.html#returning-a-view-versus-a-copy\n",
      "\n",
      "<ipython-input-46-8de350015ef1>:8: SettingWithCopyWarning:\n",
      "\n",
      "\n",
      "A value is trying to be set on a copy of a slice from a DataFrame.\n",
      "Try using .loc[row_indexer,col_indexer] = value instead\n",
      "\n",
      "See the caveats in the documentation: https://pandas.pydata.org/pandas-docs/stable/user_guide/indexing.html#returning-a-view-versus-a-copy\n",
      "\n",
      "<ipython-input-46-8de350015ef1>:7: SettingWithCopyWarning:\n",
      "\n",
      "\n",
      "A value is trying to be set on a copy of a slice from a DataFrame.\n",
      "Try using .loc[row_indexer,col_indexer] = value instead\n",
      "\n",
      "See the caveats in the documentation: https://pandas.pydata.org/pandas-docs/stable/user_guide/indexing.html#returning-a-view-versus-a-copy\n",
      "\n",
      "<ipython-input-46-8de350015ef1>:8: SettingWithCopyWarning:\n",
      "\n",
      "\n",
      "A value is trying to be set on a copy of a slice from a DataFrame.\n",
      "Try using .loc[row_indexer,col_indexer] = value instead\n",
      "\n",
      "See the caveats in the documentation: https://pandas.pydata.org/pandas-docs/stable/user_guide/indexing.html#returning-a-view-versus-a-copy\n",
      "\n",
      "<ipython-input-46-8de350015ef1>:7: SettingWithCopyWarning:\n",
      "\n",
      "\n",
      "A value is trying to be set on a copy of a slice from a DataFrame.\n",
      "Try using .loc[row_indexer,col_indexer] = value instead\n",
      "\n",
      "See the caveats in the documentation: https://pandas.pydata.org/pandas-docs/stable/user_guide/indexing.html#returning-a-view-versus-a-copy\n",
      "\n",
      "<ipython-input-46-8de350015ef1>:8: SettingWithCopyWarning:\n",
      "\n",
      "\n",
      "A value is trying to be set on a copy of a slice from a DataFrame.\n",
      "Try using .loc[row_indexer,col_indexer] = value instead\n",
      "\n",
      "See the caveats in the documentation: https://pandas.pydata.org/pandas-docs/stable/user_guide/indexing.html#returning-a-view-versus-a-copy\n",
      "\n",
      "<ipython-input-46-8de350015ef1>:7: SettingWithCopyWarning:\n",
      "\n",
      "\n",
      "A value is trying to be set on a copy of a slice from a DataFrame.\n",
      "Try using .loc[row_indexer,col_indexer] = value instead\n",
      "\n",
      "See the caveats in the documentation: https://pandas.pydata.org/pandas-docs/stable/user_guide/indexing.html#returning-a-view-versus-a-copy\n",
      "\n",
      "<ipython-input-46-8de350015ef1>:8: SettingWithCopyWarning:\n",
      "\n",
      "\n",
      "A value is trying to be set on a copy of a slice from a DataFrame.\n",
      "Try using .loc[row_indexer,col_indexer] = value instead\n",
      "\n",
      "See the caveats in the documentation: https://pandas.pydata.org/pandas-docs/stable/user_guide/indexing.html#returning-a-view-versus-a-copy\n",
      "\n",
      "<ipython-input-46-8de350015ef1>:7: SettingWithCopyWarning:\n",
      "\n",
      "\n",
      "A value is trying to be set on a copy of a slice from a DataFrame.\n",
      "Try using .loc[row_indexer,col_indexer] = value instead\n",
      "\n",
      "See the caveats in the documentation: https://pandas.pydata.org/pandas-docs/stable/user_guide/indexing.html#returning-a-view-versus-a-copy\n",
      "\n",
      "<ipython-input-46-8de350015ef1>:8: SettingWithCopyWarning:\n",
      "\n",
      "\n",
      "A value is trying to be set on a copy of a slice from a DataFrame.\n",
      "Try using .loc[row_indexer,col_indexer] = value instead\n",
      "\n",
      "See the caveats in the documentation: https://pandas.pydata.org/pandas-docs/stable/user_guide/indexing.html#returning-a-view-versus-a-copy\n",
      "\n",
      "<ipython-input-46-8de350015ef1>:7: SettingWithCopyWarning:\n",
      "\n",
      "\n",
      "A value is trying to be set on a copy of a slice from a DataFrame.\n",
      "Try using .loc[row_indexer,col_indexer] = value instead\n",
      "\n",
      "See the caveats in the documentation: https://pandas.pydata.org/pandas-docs/stable/user_guide/indexing.html#returning-a-view-versus-a-copy\n",
      "\n",
      "<ipython-input-46-8de350015ef1>:8: SettingWithCopyWarning:\n",
      "\n",
      "\n",
      "A value is trying to be set on a copy of a slice from a DataFrame.\n",
      "Try using .loc[row_indexer,col_indexer] = value instead\n",
      "\n",
      "See the caveats in the documentation: https://pandas.pydata.org/pandas-docs/stable/user_guide/indexing.html#returning-a-view-versus-a-copy\n",
      "\n",
      "<ipython-input-46-8de350015ef1>:7: SettingWithCopyWarning:\n",
      "\n",
      "\n",
      "A value is trying to be set on a copy of a slice from a DataFrame.\n",
      "Try using .loc[row_indexer,col_indexer] = value instead\n",
      "\n",
      "See the caveats in the documentation: https://pandas.pydata.org/pandas-docs/stable/user_guide/indexing.html#returning-a-view-versus-a-copy\n",
      "\n",
      "<ipython-input-46-8de350015ef1>:8: SettingWithCopyWarning:\n",
      "\n",
      "\n",
      "A value is trying to be set on a copy of a slice from a DataFrame.\n",
      "Try using .loc[row_indexer,col_indexer] = value instead\n",
      "\n",
      "See the caveats in the documentation: https://pandas.pydata.org/pandas-docs/stable/user_guide/indexing.html#returning-a-view-versus-a-copy\n",
      "\n",
      "<ipython-input-46-8de350015ef1>:7: SettingWithCopyWarning:\n",
      "\n",
      "\n",
      "A value is trying to be set on a copy of a slice from a DataFrame.\n",
      "Try using .loc[row_indexer,col_indexer] = value instead\n",
      "\n",
      "See the caveats in the documentation: https://pandas.pydata.org/pandas-docs/stable/user_guide/indexing.html#returning-a-view-versus-a-copy\n",
      "\n",
      "<ipython-input-46-8de350015ef1>:8: SettingWithCopyWarning:\n",
      "\n",
      "\n",
      "A value is trying to be set on a copy of a slice from a DataFrame.\n",
      "Try using .loc[row_indexer,col_indexer] = value instead\n",
      "\n",
      "See the caveats in the documentation: https://pandas.pydata.org/pandas-docs/stable/user_guide/indexing.html#returning-a-view-versus-a-copy\n",
      "\n",
      "<ipython-input-46-8de350015ef1>:7: SettingWithCopyWarning:\n",
      "\n",
      "\n",
      "A value is trying to be set on a copy of a slice from a DataFrame.\n",
      "Try using .loc[row_indexer,col_indexer] = value instead\n",
      "\n",
      "See the caveats in the documentation: https://pandas.pydata.org/pandas-docs/stable/user_guide/indexing.html#returning-a-view-versus-a-copy\n",
      "\n",
      "<ipython-input-46-8de350015ef1>:8: SettingWithCopyWarning:\n",
      "\n",
      "\n",
      "A value is trying to be set on a copy of a slice from a DataFrame.\n",
      "Try using .loc[row_indexer,col_indexer] = value instead\n",
      "\n",
      "See the caveats in the documentation: https://pandas.pydata.org/pandas-docs/stable/user_guide/indexing.html#returning-a-view-versus-a-copy\n",
      "\n",
      "<ipython-input-46-8de350015ef1>:7: SettingWithCopyWarning:\n",
      "\n",
      "\n",
      "A value is trying to be set on a copy of a slice from a DataFrame.\n",
      "Try using .loc[row_indexer,col_indexer] = value instead\n",
      "\n",
      "See the caveats in the documentation: https://pandas.pydata.org/pandas-docs/stable/user_guide/indexing.html#returning-a-view-versus-a-copy\n",
      "\n",
      "<ipython-input-46-8de350015ef1>:8: SettingWithCopyWarning:\n",
      "\n",
      "\n",
      "A value is trying to be set on a copy of a slice from a DataFrame.\n",
      "Try using .loc[row_indexer,col_indexer] = value instead\n",
      "\n",
      "See the caveats in the documentation: https://pandas.pydata.org/pandas-docs/stable/user_guide/indexing.html#returning-a-view-versus-a-copy\n",
      "\n",
      "<ipython-input-46-8de350015ef1>:7: SettingWithCopyWarning:\n",
      "\n",
      "\n",
      "A value is trying to be set on a copy of a slice from a DataFrame.\n",
      "Try using .loc[row_indexer,col_indexer] = value instead\n",
      "\n",
      "See the caveats in the documentation: https://pandas.pydata.org/pandas-docs/stable/user_guide/indexing.html#returning-a-view-versus-a-copy\n",
      "\n",
      "<ipython-input-46-8de350015ef1>:8: SettingWithCopyWarning:\n",
      "\n",
      "\n",
      "A value is trying to be set on a copy of a slice from a DataFrame.\n",
      "Try using .loc[row_indexer,col_indexer] = value instead\n",
      "\n",
      "See the caveats in the documentation: https://pandas.pydata.org/pandas-docs/stable/user_guide/indexing.html#returning-a-view-versus-a-copy\n",
      "\n",
      "<ipython-input-46-8de350015ef1>:7: SettingWithCopyWarning:\n",
      "\n",
      "\n",
      "A value is trying to be set on a copy of a slice from a DataFrame.\n",
      "Try using .loc[row_indexer,col_indexer] = value instead\n",
      "\n",
      "See the caveats in the documentation: https://pandas.pydata.org/pandas-docs/stable/user_guide/indexing.html#returning-a-view-versus-a-copy\n",
      "\n",
      "<ipython-input-46-8de350015ef1>:8: SettingWithCopyWarning:\n",
      "\n",
      "\n",
      "A value is trying to be set on a copy of a slice from a DataFrame.\n",
      "Try using .loc[row_indexer,col_indexer] = value instead\n",
      "\n",
      "See the caveats in the documentation: https://pandas.pydata.org/pandas-docs/stable/user_guide/indexing.html#returning-a-view-versus-a-copy\n",
      "\n",
      "<ipython-input-46-8de350015ef1>:7: SettingWithCopyWarning:\n",
      "\n",
      "\n",
      "A value is trying to be set on a copy of a slice from a DataFrame.\n",
      "Try using .loc[row_indexer,col_indexer] = value instead\n",
      "\n",
      "See the caveats in the documentation: https://pandas.pydata.org/pandas-docs/stable/user_guide/indexing.html#returning-a-view-versus-a-copy\n",
      "\n",
      "<ipython-input-46-8de350015ef1>:8: SettingWithCopyWarning:\n",
      "\n",
      "\n",
      "A value is trying to be set on a copy of a slice from a DataFrame.\n",
      "Try using .loc[row_indexer,col_indexer] = value instead\n",
      "\n",
      "See the caveats in the documentation: https://pandas.pydata.org/pandas-docs/stable/user_guide/indexing.html#returning-a-view-versus-a-copy\n",
      "\n",
      "<ipython-input-46-8de350015ef1>:7: SettingWithCopyWarning:\n",
      "\n",
      "\n",
      "A value is trying to be set on a copy of a slice from a DataFrame.\n",
      "Try using .loc[row_indexer,col_indexer] = value instead\n",
      "\n",
      "See the caveats in the documentation: https://pandas.pydata.org/pandas-docs/stable/user_guide/indexing.html#returning-a-view-versus-a-copy\n",
      "\n",
      "<ipython-input-46-8de350015ef1>:8: SettingWithCopyWarning:\n",
      "\n",
      "\n",
      "A value is trying to be set on a copy of a slice from a DataFrame.\n",
      "Try using .loc[row_indexer,col_indexer] = value instead\n",
      "\n",
      "See the caveats in the documentation: https://pandas.pydata.org/pandas-docs/stable/user_guide/indexing.html#returning-a-view-versus-a-copy\n",
      "\n",
      "<ipython-input-46-8de350015ef1>:7: SettingWithCopyWarning:\n",
      "\n",
      "\n",
      "A value is trying to be set on a copy of a slice from a DataFrame.\n",
      "Try using .loc[row_indexer,col_indexer] = value instead\n",
      "\n",
      "See the caveats in the documentation: https://pandas.pydata.org/pandas-docs/stable/user_guide/indexing.html#returning-a-view-versus-a-copy\n",
      "\n",
      "<ipython-input-46-8de350015ef1>:8: SettingWithCopyWarning:\n",
      "\n",
      "\n",
      "A value is trying to be set on a copy of a slice from a DataFrame.\n",
      "Try using .loc[row_indexer,col_indexer] = value instead\n",
      "\n",
      "See the caveats in the documentation: https://pandas.pydata.org/pandas-docs/stable/user_guide/indexing.html#returning-a-view-versus-a-copy\n",
      "\n",
      "<ipython-input-46-8de350015ef1>:7: SettingWithCopyWarning:\n",
      "\n",
      "\n",
      "A value is trying to be set on a copy of a slice from a DataFrame.\n",
      "Try using .loc[row_indexer,col_indexer] = value instead\n",
      "\n",
      "See the caveats in the documentation: https://pandas.pydata.org/pandas-docs/stable/user_guide/indexing.html#returning-a-view-versus-a-copy\n",
      "\n",
      "<ipython-input-46-8de350015ef1>:8: SettingWithCopyWarning:\n",
      "\n",
      "\n",
      "A value is trying to be set on a copy of a slice from a DataFrame.\n",
      "Try using .loc[row_indexer,col_indexer] = value instead\n",
      "\n",
      "See the caveats in the documentation: https://pandas.pydata.org/pandas-docs/stable/user_guide/indexing.html#returning-a-view-versus-a-copy\n",
      "\n",
      "<ipython-input-46-8de350015ef1>:7: SettingWithCopyWarning:\n",
      "\n",
      "\n",
      "A value is trying to be set on a copy of a slice from a DataFrame.\n",
      "Try using .loc[row_indexer,col_indexer] = value instead\n",
      "\n",
      "See the caveats in the documentation: https://pandas.pydata.org/pandas-docs/stable/user_guide/indexing.html#returning-a-view-versus-a-copy\n",
      "\n",
      "<ipython-input-46-8de350015ef1>:8: SettingWithCopyWarning:\n",
      "\n",
      "\n",
      "A value is trying to be set on a copy of a slice from a DataFrame.\n",
      "Try using .loc[row_indexer,col_indexer] = value instead\n",
      "\n",
      "See the caveats in the documentation: https://pandas.pydata.org/pandas-docs/stable/user_guide/indexing.html#returning-a-view-versus-a-copy\n",
      "\n"
     ]
    }
   ],
   "source": [
    "edit_rates_window_list = [wide_to_long(df) for df in edit_rates_window_list]"
   ]
  },
  {
   "cell_type": "code",
   "execution_count": 48,
   "metadata": {},
   "outputs": [],
   "source": [
    "edit_rates_window = pd.concat(edit_rates_window_list)\n"
   ]
  },
  {
   "cell_type": "code",
   "execution_count": 81,
   "metadata": {},
   "outputs": [],
   "source": [
    "#edit_rates_window.to_csv(\"20221221_edit_rates_window_n20.csv\")"
   ]
  },
  {
   "cell_type": "code",
   "execution_count": 4,
   "metadata": {},
   "outputs": [],
   "source": [
    "edit_rates_window = pd.read_csv(\"20221221_edit_rates_window_n20.csv\")"
   ]
  },
  {
   "cell_type": "code",
   "execution_count": 6,
   "metadata": {},
   "outputs": [],
   "source": [
    "edit_rates_window['edit'] = edit_rates_window.edit.map(lambda s: be.framework.Edit.Edit.from_str(s))"
   ]
  },
  {
   "cell_type": "code",
   "execution_count": 17,
   "metadata": {},
   "outputs": [],
   "source": [
    "guide_info = pd.read_csv(\"../resources/gRNA_info/LDLRCDS_gRNA_bean.csv\")"
   ]
  },
  {
   "cell_type": "code",
   "execution_count": 26,
   "metadata": {},
   "outputs": [],
   "source": [
    "guide_info[\"name\"] = format_special_chars(guide_info[\"name\"])"
   ]
  },
  {
   "cell_type": "markdown",
   "metadata": {},
   "source": [
    "### Locus wise accessibility\n"
   ]
  },
  {
   "cell_type": "code",
   "execution_count": 10,
   "metadata": {},
   "outputs": [],
   "source": [
    "dnase = pyBigWig.open(\"../resources/accessibility/ENCFF113VII.hg19.bw\")\n",
    "atac = pyBigWig.open(\"../resources/accessibility/ENCFF262URW.hg19.bw\")\n",
    "lmnb = pyBigWig.open(\"../resources/accessibility/SRX4654321.bw.1\")\n",
    "\n",
    "def get_accessibility(guide_name, pos_list, track):\n",
    "    guide_start_pos = guide_info.loc[guide_name, \"start_pos\"]\n",
    "    vals = []\n",
    "    for pos in pos_list:\n",
    "        try:\n",
    "            vals.append(track.values(\"chr19\", guide_start_pos + pos, guide_start_pos + pos + 1))\n",
    "        except:\n",
    "            print(guide_start_pos, pos)\n",
    "    return(np.array(vals))"
   ]
  },
  {
   "cell_type": "code",
   "execution_count": 11,
   "metadata": {},
   "outputs": [],
   "source": [
    "def get_accessibility_single(guide_name, pos, track):\n",
    "    guide_start_pos = guide_info.loc[guide_name, \"start_pos\"]\n",
    "    return np.nanmean(np.array(track.values(\"chr19\", guide_start_pos + pos-100, guide_start_pos + pos + 100)))"
   ]
  },
  {
   "cell_type": "code",
   "execution_count": 12,
   "metadata": {},
   "outputs": [],
   "source": [
    "edit_rates_window['edit_pos'] = edit_rates_window.edit.map(lambda e: e.pos)\n",
    "edit_rates_window['region'] = edit_rates_window.lib.map(lambda s: s.rsplit(\"_\")[0])\n"
   ]
  },
  {
   "cell_type": "code",
   "execution_count": 13,
   "metadata": {},
   "outputs": [],
   "source": [
    "edit_rates_window_no = edit_rates_window.loc[edit_rates_window.guide != \"Intron-1-DNaseHS-1_5344_neg\",:]"
   ]
  },
  {
   "cell_type": "code",
   "execution_count": 15,
   "metadata": {},
   "outputs": [
    {
     "data": {
      "text/html": [
       "<div>\n",
       "<style scoped>\n",
       "    .dataframe tbody tr th:only-of-type {\n",
       "        vertical-align: middle;\n",
       "    }\n",
       "\n",
       "    .dataframe tbody tr th {\n",
       "        vertical-align: top;\n",
       "    }\n",
       "\n",
       "    .dataframe thead th {\n",
       "        text-align: right;\n",
       "    }\n",
       "</style>\n",
       "<table border=\"1\" class=\"dataframe\">\n",
       "  <thead>\n",
       "    <tr style=\"text-align: right;\">\n",
       "      <th></th>\n",
       "      <th>Unnamed: 0.1</th>\n",
       "      <th>Unnamed: 0</th>\n",
       "      <th>guide</th>\n",
       "      <th>edit</th>\n",
       "      <th>strand</th>\n",
       "      <th>reporter</th>\n",
       "      <th>endo</th>\n",
       "      <th>rep</th>\n",
       "      <th>lib</th>\n",
       "      <th>edit_pos</th>\n",
       "      <th>region</th>\n",
       "      <th>dnase_acc</th>\n",
       "      <th>log_dnase_acc</th>\n",
       "      <th>atac_acc</th>\n",
       "      <th>log_atac_acc</th>\n",
       "      <th>lmnb</th>\n",
       "      <th>log_lmnb</th>\n",
       "      <th>ratio</th>\n",
       "      <th>ratio_pad</th>\n",
       "    </tr>\n",
       "  </thead>\n",
       "  <tbody>\n",
       "    <tr>\n",
       "      <th>0</th>\n",
       "      <td>0</td>\n",
       "      <td>2</td>\n",
       "      <td>Intron-1-DNaseHS-1_5314_pos</td>\n",
       "      <td>6:6:+:A&gt;G</td>\n",
       "      <td>pos</td>\n",
       "      <td>0.363289</td>\n",
       "      <td>0.086108</td>\n",
       "      <td>1</td>\n",
       "      <td>A_Q5</td>\n",
       "      <td>6</td>\n",
       "      <td>A</td>\n",
       "      <td>3.411054</td>\n",
       "      <td>1.484114</td>\n",
       "      <td>980.269350</td>\n",
       "      <td>6.888847</td>\n",
       "      <td>0.029693</td>\n",
       "      <td>0.029260</td>\n",
       "      <td>-1.356883</td>\n",
       "      <td>-1.110700</td>\n",
       "    </tr>\n",
       "    <tr>\n",
       "      <th>1</th>\n",
       "      <td>1</td>\n",
       "      <td>3</td>\n",
       "      <td>Intron-1-DNaseHS-1_5323_neg</td>\n",
       "      <td>4:4:-:A&gt;G</td>\n",
       "      <td>neg</td>\n",
       "      <td>0.142446</td>\n",
       "      <td>0.064456</td>\n",
       "      <td>1</td>\n",
       "      <td>A_Q5</td>\n",
       "      <td>4</td>\n",
       "      <td>A</td>\n",
       "      <td>3.421432</td>\n",
       "      <td>1.486464</td>\n",
       "      <td>982.907655</td>\n",
       "      <td>6.891532</td>\n",
       "      <td>0.030019</td>\n",
       "      <td>0.029577</td>\n",
       "      <td>-0.716594</td>\n",
       "      <td>-0.519619</td>\n",
       "    </tr>\n",
       "    <tr>\n",
       "      <th>2</th>\n",
       "      <td>2</td>\n",
       "      <td>6</td>\n",
       "      <td>Intron-1-DNaseHS-1_5332_pos</td>\n",
       "      <td>4:4:+:A&gt;G</td>\n",
       "      <td>pos</td>\n",
       "      <td>0.495024</td>\n",
       "      <td>0.112803</td>\n",
       "      <td>1</td>\n",
       "      <td>A_Q5</td>\n",
       "      <td>4</td>\n",
       "      <td>A</td>\n",
       "      <td>3.312679</td>\n",
       "      <td>1.461559</td>\n",
       "      <td>948.110179</td>\n",
       "      <td>6.855525</td>\n",
       "      <td>0.028484</td>\n",
       "      <td>0.028086</td>\n",
       "      <td>-1.414021</td>\n",
       "      <td>-1.208287</td>\n",
       "    </tr>\n",
       "    <tr>\n",
       "      <th>3</th>\n",
       "      <td>3</td>\n",
       "      <td>8</td>\n",
       "      <td>Intron-1-DNaseHS-1_5344_neg</td>\n",
       "      <td>5:5:-:A&gt;G</td>\n",
       "      <td>neg</td>\n",
       "      <td>0.861985</td>\n",
       "      <td>0.027065</td>\n",
       "      <td>1</td>\n",
       "      <td>A_Q5</td>\n",
       "      <td>5</td>\n",
       "      <td>A</td>\n",
       "      <td>3.289488</td>\n",
       "      <td>1.456167</td>\n",
       "      <td>941.479276</td>\n",
       "      <td>6.848514</td>\n",
       "      <td>0.028484</td>\n",
       "      <td>0.028086</td>\n",
       "      <td>-3.158113</td>\n",
       "      <td>-2.470981</td>\n",
       "    </tr>\n",
       "    <tr>\n",
       "      <th>4</th>\n",
       "      <td>4</td>\n",
       "      <td>9</td>\n",
       "      <td>Intron-1-DNaseHS-1_5344_neg</td>\n",
       "      <td>7:7:-:A&gt;G</td>\n",
       "      <td>neg</td>\n",
       "      <td>0.713075</td>\n",
       "      <td>0.024518</td>\n",
       "      <td>1</td>\n",
       "      <td>A_Q5</td>\n",
       "      <td>7</td>\n",
       "      <td>A</td>\n",
       "      <td>3.274028</td>\n",
       "      <td>1.452557</td>\n",
       "      <td>937.021525</td>\n",
       "      <td>6.843773</td>\n",
       "      <td>0.028484</td>\n",
       "      <td>0.028086</td>\n",
       "      <td>-3.042036</td>\n",
       "      <td>-2.326318</td>\n",
       "    </tr>\n",
       "    <tr>\n",
       "      <th>...</th>\n",
       "      <td>...</td>\n",
       "      <td>...</td>\n",
       "      <td>...</td>\n",
       "      <td>...</td>\n",
       "      <td>...</td>\n",
       "      <td>...</td>\n",
       "      <td>...</td>\n",
       "      <td>...</td>\n",
       "      <td>...</td>\n",
       "      <td>...</td>\n",
       "      <td>...</td>\n",
       "      <td>...</td>\n",
       "      <td>...</td>\n",
       "      <td>...</td>\n",
       "      <td>...</td>\n",
       "      <td>...</td>\n",
       "      <td>...</td>\n",
       "      <td>...</td>\n",
       "      <td>...</td>\n",
       "    </tr>\n",
       "    <tr>\n",
       "      <th>289</th>\n",
       "      <td>289</td>\n",
       "      <td>45</td>\n",
       "      <td>12_3180_neg</td>\n",
       "      <td>3:3:-:A&gt;G</td>\n",
       "      <td>neg</td>\n",
       "      <td>0.439649</td>\n",
       "      <td>0.064626</td>\n",
       "      <td>3</td>\n",
       "      <td>D_Q5U</td>\n",
       "      <td>3</td>\n",
       "      <td>D</td>\n",
       "      <td>0.075714</td>\n",
       "      <td>0.072985</td>\n",
       "      <td>3.891711</td>\n",
       "      <td>1.587542</td>\n",
       "      <td>0.028484</td>\n",
       "      <td>0.028086</td>\n",
       "      <td>-1.795980</td>\n",
       "      <td>-1.452015</td>\n",
       "    </tr>\n",
       "    <tr>\n",
       "      <th>290</th>\n",
       "      <td>290</td>\n",
       "      <td>46</td>\n",
       "      <td>12_3180_neg</td>\n",
       "      <td>4:4:-:A&gt;G</td>\n",
       "      <td>neg</td>\n",
       "      <td>0.405999</td>\n",
       "      <td>0.072616</td>\n",
       "      <td>3</td>\n",
       "      <td>D_Q5U</td>\n",
       "      <td>4</td>\n",
       "      <td>D</td>\n",
       "      <td>0.075846</td>\n",
       "      <td>0.073108</td>\n",
       "      <td>3.842238</td>\n",
       "      <td>1.577377</td>\n",
       "      <td>0.028484</td>\n",
       "      <td>0.028086</td>\n",
       "      <td>-1.616474</td>\n",
       "      <td>-1.313429</td>\n",
       "    </tr>\n",
       "    <tr>\n",
       "      <th>291</th>\n",
       "      <td>291</td>\n",
       "      <td>47</td>\n",
       "      <td>12_3180_neg</td>\n",
       "      <td>6:6:-:A&gt;G</td>\n",
       "      <td>neg</td>\n",
       "      <td>0.621068</td>\n",
       "      <td>0.102473</td>\n",
       "      <td>3</td>\n",
       "      <td>D_Q5U</td>\n",
       "      <td>6</td>\n",
       "      <td>D</td>\n",
       "      <td>0.076111</td>\n",
       "      <td>0.073354</td>\n",
       "      <td>3.743551</td>\n",
       "      <td>1.556786</td>\n",
       "      <td>0.028484</td>\n",
       "      <td>0.028086</td>\n",
       "      <td>-1.724697</td>\n",
       "      <td>-1.481881</td>\n",
       "    </tr>\n",
       "    <tr>\n",
       "      <th>292</th>\n",
       "      <td>292</td>\n",
       "      <td>52</td>\n",
       "      <td>12_3197_pos</td>\n",
       "      <td>4:4:+:A&gt;G</td>\n",
       "      <td>pos</td>\n",
       "      <td>0.164243</td>\n",
       "      <td>0.000582</td>\n",
       "      <td>3</td>\n",
       "      <td>D_Q5U</td>\n",
       "      <td>4</td>\n",
       "      <td>D</td>\n",
       "      <td>0.077144</td>\n",
       "      <td>0.074313</td>\n",
       "      <td>2.745583</td>\n",
       "      <td>1.320577</td>\n",
       "      <td>0.028484</td>\n",
       "      <td>0.028086</td>\n",
       "      <td>-2.801258</td>\n",
       "      <td>-1.443506</td>\n",
       "    </tr>\n",
       "    <tr>\n",
       "      <th>293</th>\n",
       "      <td>293</td>\n",
       "      <td>56</td>\n",
       "      <td>12_3209_neg</td>\n",
       "      <td>3:3:-:A&gt;G</td>\n",
       "      <td>neg</td>\n",
       "      <td>0.052219</td>\n",
       "      <td>0.000840</td>\n",
       "      <td>3</td>\n",
       "      <td>D_Q5U</td>\n",
       "      <td>3</td>\n",
       "      <td>D</td>\n",
       "      <td>0.077038</td>\n",
       "      <td>0.074214</td>\n",
       "      <td>2.659969</td>\n",
       "      <td>1.297455</td>\n",
       "      <td>0.028484</td>\n",
       "      <td>0.028086</td>\n",
       "      <td>-1.747446</td>\n",
       "      <td>-0.698442</td>\n",
       "    </tr>\n",
       "  </tbody>\n",
       "</table>\n",
       "<p>294 rows × 19 columns</p>\n",
       "</div>"
      ],
      "text/plain": [
       "     Unnamed: 0.1  Unnamed: 0                        guide       edit strand  \\\n",
       "0               0           2  Intron-1-DNaseHS-1_5314_pos  6:6:+:A>G    pos   \n",
       "1               1           3  Intron-1-DNaseHS-1_5323_neg  4:4:-:A>G    neg   \n",
       "2               2           6  Intron-1-DNaseHS-1_5332_pos  4:4:+:A>G    pos   \n",
       "3               3           8  Intron-1-DNaseHS-1_5344_neg  5:5:-:A>G    neg   \n",
       "4               4           9  Intron-1-DNaseHS-1_5344_neg  7:7:-:A>G    neg   \n",
       "..            ...         ...                          ...        ...    ...   \n",
       "289           289          45                  12_3180_neg  3:3:-:A>G    neg   \n",
       "290           290          46                  12_3180_neg  4:4:-:A>G    neg   \n",
       "291           291          47                  12_3180_neg  6:6:-:A>G    neg   \n",
       "292           292          52                  12_3197_pos  4:4:+:A>G    pos   \n",
       "293           293          56                  12_3209_neg  3:3:-:A>G    neg   \n",
       "\n",
       "     reporter      endo  rep    lib  edit_pos region  dnase_acc  \\\n",
       "0    0.363289  0.086108    1   A_Q5         6      A   3.411054   \n",
       "1    0.142446  0.064456    1   A_Q5         4      A   3.421432   \n",
       "2    0.495024  0.112803    1   A_Q5         4      A   3.312679   \n",
       "3    0.861985  0.027065    1   A_Q5         5      A   3.289488   \n",
       "4    0.713075  0.024518    1   A_Q5         7      A   3.274028   \n",
       "..        ...       ...  ...    ...       ...    ...        ...   \n",
       "289  0.439649  0.064626    3  D_Q5U         3      D   0.075714   \n",
       "290  0.405999  0.072616    3  D_Q5U         4      D   0.075846   \n",
       "291  0.621068  0.102473    3  D_Q5U         6      D   0.076111   \n",
       "292  0.164243  0.000582    3  D_Q5U         4      D   0.077144   \n",
       "293  0.052219  0.000840    3  D_Q5U         3      D   0.077038   \n",
       "\n",
       "     log_dnase_acc    atac_acc  log_atac_acc      lmnb  log_lmnb     ratio  \\\n",
       "0         1.484114  980.269350      6.888847  0.029693  0.029260 -1.356883   \n",
       "1         1.486464  982.907655      6.891532  0.030019  0.029577 -0.716594   \n",
       "2         1.461559  948.110179      6.855525  0.028484  0.028086 -1.414021   \n",
       "3         1.456167  941.479276      6.848514  0.028484  0.028086 -3.158113   \n",
       "4         1.452557  937.021525      6.843773  0.028484  0.028086 -3.042036   \n",
       "..             ...         ...           ...       ...       ...       ...   \n",
       "289       0.072985    3.891711      1.587542  0.028484  0.028086 -1.795980   \n",
       "290       0.073108    3.842238      1.577377  0.028484  0.028086 -1.616474   \n",
       "291       0.073354    3.743551      1.556786  0.028484  0.028086 -1.724697   \n",
       "292       0.074313    2.745583      1.320577  0.028484  0.028086 -2.801258   \n",
       "293       0.074214    2.659969      1.297455  0.028484  0.028086 -1.747446   \n",
       "\n",
       "     ratio_pad  \n",
       "0    -1.110700  \n",
       "1    -0.519619  \n",
       "2    -1.208287  \n",
       "3    -2.470981  \n",
       "4    -2.326318  \n",
       "..         ...  \n",
       "289  -1.452015  \n",
       "290  -1.313429  \n",
       "291  -1.481881  \n",
       "292  -1.443506  \n",
       "293  -0.698442  \n",
       "\n",
       "[294 rows x 19 columns]"
      ]
     },
     "execution_count": 15,
     "metadata": {},
     "output_type": "execute_result"
    }
   ],
   "source": [
    "edit_rates_window"
   ]
  },
  {
   "cell_type": "code",
   "execution_count": 32,
   "metadata": {},
   "outputs": [
    {
     "data": {
      "text/html": [
       "<div>\n",
       "<style scoped>\n",
       "    .dataframe tbody tr th:only-of-type {\n",
       "        vertical-align: middle;\n",
       "    }\n",
       "\n",
       "    .dataframe tbody tr th {\n",
       "        vertical-align: top;\n",
       "    }\n",
       "\n",
       "    .dataframe thead th {\n",
       "        text-align: right;\n",
       "    }\n",
       "</style>\n",
       "<table border=\"1\" class=\"dataframe\">\n",
       "  <thead>\n",
       "    <tr style=\"text-align: right;\">\n",
       "      <th></th>\n",
       "      <th>Unnamed: 0</th>\n",
       "      <th>name</th>\n",
       "      <th>Region</th>\n",
       "      <th>pos</th>\n",
       "      <th>Strand</th>\n",
       "      <th>gRNA</th>\n",
       "      <th>Reporter</th>\n",
       "      <th>gRNA_barcode</th>\n",
       "      <th>5-nt PAM</th>\n",
       "      <th>targetPos</th>\n",
       "      <th>pos_seq</th>\n",
       "      <th>start_pos</th>\n",
       "    </tr>\n",
       "  </thead>\n",
       "  <tbody>\n",
       "    <tr>\n",
       "      <th>7046</th>\n",
       "      <td>7046</td>\n",
       "      <td>Intron-1-DNaseHS-1_5314_pos</td>\n",
       "      <td>Intron 1 DNaseHS 1</td>\n",
       "      <td>5314</td>\n",
       "      <td>pos</td>\n",
       "      <td>AGGCGGAGGCGGGCGTCGGG</td>\n",
       "      <td>CGGTGGAGGCGGAGGCGGGCGTCGGGAGGACG</td>\n",
       "      <td>TTCT</td>\n",
       "      <td>AGGAC</td>\n",
       "      <td>11201182.0</td>\n",
       "      <td>AGGCGGAGGCGGGCGTCGGG</td>\n",
       "      <td>11201177</td>\n",
       "    </tr>\n",
       "  </tbody>\n",
       "</table>\n",
       "</div>"
      ],
      "text/plain": [
       "      Unnamed: 0                         name              Region   pos  \\\n",
       "7046        7046  Intron-1-DNaseHS-1_5314_pos  Intron 1 DNaseHS 1  5314   \n",
       "\n",
       "     Strand                  gRNA                          Reporter  \\\n",
       "7046    pos  AGGCGGAGGCGGGCGTCGGG  CGGTGGAGGCGGAGGCGGGCGTCGGGAGGACG   \n",
       "\n",
       "     gRNA_barcode 5-nt PAM   targetPos               pos_seq  start_pos  \n",
       "7046         TTCT    AGGAC  11201182.0  AGGCGGAGGCGGGCGTCGGG   11201177  "
      ]
     },
     "execution_count": 32,
     "metadata": {},
     "output_type": "execute_result"
    }
   ],
   "source": [
    "guide_info.loc[guide_info.name.map(lambda s: \"Intron-1-DNaseHS-1_5314_pos\" in s)]"
   ]
  },
  {
   "cell_type": "code",
   "execution_count": 34,
   "metadata": {},
   "outputs": [],
   "source": [
    "guide_info = guide_info.set_index(\"name\")"
   ]
  },
  {
   "cell_type": "code",
   "execution_count": 35,
   "metadata": {},
   "outputs": [],
   "source": [
    "edit_rates_window['dnase_acc']=edit_rates_window.apply(lambda row: get_accessibility_single(row.guide, row.edit_pos, dnase), axis=1)\n",
    "edit_rates_window['log_dnase_acc']=edit_rates_window['dnase_acc'].map(lambda x: np.log(x+1))"
   ]
  },
  {
   "cell_type": "code",
   "execution_count": 36,
   "metadata": {},
   "outputs": [],
   "source": [
    "edit_rates_window['atac_acc']=edit_rates_window.apply(lambda row: get_accessibility_single(row.guide, row.edit_pos, atac), axis=1)\n",
    "edit_rates_window['log_atac_acc']=edit_rates_window['atac_acc'].map(lambda x: np.log(x+1))"
   ]
  },
  {
   "cell_type": "code",
   "execution_count": 37,
   "metadata": {},
   "outputs": [
    {
     "name": "stderr",
     "output_type": "stream",
     "text": [
      "<ipython-input-11-58a8887fce4e>:3: RuntimeWarning: Mean of empty slice\n",
      "  return np.nanmean(np.array(track.values(\"chr19\", guide_start_pos + pos-100, guide_start_pos + pos + 100)))\n"
     ]
    }
   ],
   "source": [
    "edit_rates_window['lmnb']=edit_rates_window.apply(lambda row: get_accessibility_single(row.guide, row.edit_pos, lmnb), axis=1)\n",
    "\n",
    "edit_rates_window['log_lmnb']=edit_rates_window['lmnb'].map(lambda x: np.log(x+1))"
   ]
  },
  {
   "cell_type": "code",
   "execution_count": 38,
   "metadata": {},
   "outputs": [],
   "source": [
    "edit_rates_window['ratio']= np.log(edit_rates_window.endo + 0.01)-np.log(edit_rates_window.reporter+0.01)\n",
    "edit_rates_window['ratio_pad']= np.log(edit_rates_window.endo + 0.05)-np.log(edit_rates_window.reporter+0.05)\n"
   ]
  },
  {
   "cell_type": "code",
   "execution_count": null,
   "metadata": {},
   "outputs": [],
   "source": [
    "# edit_rates_window.to_csv(\"20221221_edit_rates_window_n20.csv\")"
   ]
  },
  {
   "cell_type": "code",
   "execution_count": 39,
   "metadata": {},
   "outputs": [],
   "source": [
    "edit_rates_window_no = edit_rates_window.loc[edit_rates_window.guide != \"Intron-1-DNaseHS-1_5344_neg\",:]"
   ]
  },
  {
   "cell_type": "code",
   "execution_count": 42,
   "metadata": {},
   "outputs": [
    {
     "data": {
      "text/html": [
       "<style type=\"text/css\">\n",
       "#T_c50da_row0_col0, #T_c50da_row1_col1, #T_c50da_row2_col2, #T_c50da_row3_col3 {\n",
       "  background-color: #023858;\n",
       "  color: #f1f1f1;\n",
       "}\n",
       "#T_c50da_row0_col1 {\n",
       "  background-color: #05659f;\n",
       "  color: #f1f1f1;\n",
       "}\n",
       "#T_c50da_row0_col2, #T_c50da_row2_col0, #T_c50da_row2_col3, #T_c50da_row3_col1 {\n",
       "  background-color: #fff7fb;\n",
       "  color: #000000;\n",
       "}\n",
       "#T_c50da_row0_col3 {\n",
       "  background-color: #99b8d8;\n",
       "  color: #000000;\n",
       "}\n",
       "#T_c50da_row1_col0 {\n",
       "  background-color: #045a8d;\n",
       "  color: #f1f1f1;\n",
       "}\n",
       "#T_c50da_row1_col2 {\n",
       "  background-color: #78abd0;\n",
       "  color: #f1f1f1;\n",
       "}\n",
       "#T_c50da_row1_col3 {\n",
       "  background-color: #b8c6e0;\n",
       "  color: #000000;\n",
       "}\n",
       "#T_c50da_row2_col1 {\n",
       "  background-color: #d4d4e8;\n",
       "  color: #000000;\n",
       "}\n",
       "#T_c50da_row3_col0 {\n",
       "  background-color: #93b5d6;\n",
       "  color: #000000;\n",
       "}\n",
       "#T_c50da_row3_col2 {\n",
       "  background-color: #fcf4fa;\n",
       "  color: #000000;\n",
       "}\n",
       "</style>\n",
       "<table id=\"T_c50da\">\n",
       "  <thead>\n",
       "    <tr>\n",
       "      <th class=\"blank level0\" >&nbsp;</th>\n",
       "      <th id=\"T_c50da_level0_col0\" class=\"col_heading level0 col0\" >log_atac_acc</th>\n",
       "      <th id=\"T_c50da_level0_col1\" class=\"col_heading level0 col1\" >log_dnase_acc</th>\n",
       "      <th id=\"T_c50da_level0_col2\" class=\"col_heading level0 col2\" >log_lmnb</th>\n",
       "      <th id=\"T_c50da_level0_col3\" class=\"col_heading level0 col3\" >ratio</th>\n",
       "    </tr>\n",
       "  </thead>\n",
       "  <tbody>\n",
       "    <tr>\n",
       "      <th id=\"T_c50da_level0_row0\" class=\"row_heading level0 row0\" >log_atac_acc</th>\n",
       "      <td id=\"T_c50da_row0_col0\" class=\"data row0 col0\" >1.000000</td>\n",
       "      <td id=\"T_c50da_row0_col1\" class=\"data row0 col1\" >0.899460</td>\n",
       "      <td id=\"T_c50da_row0_col2\" class=\"data row0 col2\" >0.203262</td>\n",
       "      <td id=\"T_c50da_row0_col3\" class=\"data row0 col3\" >0.540431</td>\n",
       "    </tr>\n",
       "    <tr>\n",
       "      <th id=\"T_c50da_level0_row1\" class=\"row_heading level0 row1\" >log_dnase_acc</th>\n",
       "      <td id=\"T_c50da_row1_col0\" class=\"data row1 col0\" >0.899460</td>\n",
       "      <td id=\"T_c50da_row1_col1\" class=\"data row1 col1\" >1.000000</td>\n",
       "      <td id=\"T_c50da_row1_col2\" class=\"data row1 col2\" >0.595151</td>\n",
       "      <td id=\"T_c50da_row1_col3\" class=\"data row1 col3\" >0.473163</td>\n",
       "    </tr>\n",
       "    <tr>\n",
       "      <th id=\"T_c50da_level0_row2\" class=\"row_heading level0 row2\" >log_lmnb</th>\n",
       "      <td id=\"T_c50da_row2_col0\" class=\"data row2 col0\" >0.203262</td>\n",
       "      <td id=\"T_c50da_row2_col1\" class=\"data row2 col1\" >0.595151</td>\n",
       "      <td id=\"T_c50da_row2_col2\" class=\"data row2 col2\" >1.000000</td>\n",
       "      <td id=\"T_c50da_row2_col3\" class=\"data row2 col3\" >0.221013</td>\n",
       "    </tr>\n",
       "    <tr>\n",
       "      <th id=\"T_c50da_level0_row3\" class=\"row_heading level0 row3\" >ratio</th>\n",
       "      <td id=\"T_c50da_row3_col0\" class=\"data row3 col0\" >0.540431</td>\n",
       "      <td id=\"T_c50da_row3_col1\" class=\"data row3 col1\" >0.473163</td>\n",
       "      <td id=\"T_c50da_row3_col2\" class=\"data row3 col2\" >0.221013</td>\n",
       "      <td id=\"T_c50da_row3_col3\" class=\"data row3 col3\" >1.000000</td>\n",
       "    </tr>\n",
       "  </tbody>\n",
       "</table>\n"
      ],
      "text/plain": [
       "<pandas.io.formats.style.Styler at 0x7fabe5612eb0>"
      ]
     },
     "execution_count": 42,
     "metadata": {},
     "output_type": "execute_result"
    }
   ],
   "source": [
    "edit_rates_window[['log_atac_acc', 'log_dnase_acc', 'log_lmnb', 'ratio']].corr().style.background_gradient()\n"
   ]
  },
  {
   "cell_type": "code",
   "execution_count": 43,
   "metadata": {},
   "outputs": [
    {
     "data": {
      "text/plain": [
       "<matplotlib.legend.Legend at 0x7f1a10ad6460>"
      ]
     },
     "execution_count": 43,
     "metadata": {},
     "output_type": "execute_result"
    },
    {
     "data": {
      "image/png": "[encoded data removed]",
      "text/plain": [
       "<Figure size 500x500 with 1 Axes>"
      ]
     },
     "metadata": {},
     "output_type": "display_data"
    }
   ],
   "source": [
    "sns.scatterplot(data = edit_rates_window, x=\"log_atac_acc\", y=\"ratio_pad\", hue =\"lib\", style='lib', )\n",
    "plt.legend(bbox_to_anchor=(1, 1))"
   ]
  },
  {
   "cell_type": "code",
   "execution_count": 45,
   "metadata": {},
   "outputs": [
    {
     "name": "stdout",
     "output_type": "stream",
     "text": [
      "                    Robust linear Model Regression Results                    \n",
      "==============================================================================\n",
      "Dep. Variable:              ratio_pad   No. Observations:                  288\n",
      "Model:                            RLM   Df Residuals:                      286\n",
      "Method:                          IRLS   Df Model:                            1\n",
      "Norm:                          HuberT                                         \n",
      "Scale Est.:                       mad                                         \n",
      "Cov Type:                          H1                                         \n",
      "Date:                Tue, 15 Aug 2023                                         \n",
      "Time:                        22:59:26                                         \n",
      "No. Iterations:                    18                                         \n",
      "================================================================================\n",
      "                   coef    std err          z      P>|z|      [0.025      0.975]\n",
      "--------------------------------------------------------------------------------\n",
      "const           -1.9458      0.077    -25.347      0.000      -2.096      -1.795\n",
      "log_atac_acc     0.2513      0.017     15.035      0.000       0.219       0.284\n",
      "================================================================================\n",
      "\n",
      "If the model instance has been used for another fit with different fit parameters, then the fit options might not be the correct ones anymore .\n"
     ]
    },
    {
     "name": "stderr",
     "output_type": "stream",
     "text": [
      "/data/pinello/SHARED_SOFTWARE/anaconda_latest/envs/jy_anbe_py38/lib/python3.8/site-packages/statsmodels/tsa/tsatools.py:142: FutureWarning: In a future version of pandas all arguments of concat except for the argument 'objs' will be keyword-only.\n",
      "  x = pd.concat(x[::order], 1)\n"
     ]
    }
   ],
   "source": [
    "x = edit_rates_window_no.log_atac_acc\n",
    "y = edit_rates_window_no.ratio_pad\n",
    "x = sm.add_constant(x)\n",
    "\n",
    "model = sm.RLM(y, x)\n",
    "\n",
    "\n",
    "\n",
    "mdf=model.fit()\n",
    "print(mdf.summary())"
   ]
  },
  {
   "cell_type": "code",
   "execution_count": 80,
   "metadata": {},
   "outputs": [
    {
     "name": "stderr",
     "output_type": "stream",
     "text": [
      "WARNING @ Wed, 16 Aug 2023 11:04:56:\n",
      "\t No artists with labels found to put in legend.  Note that artists whose label start with an underscore are ignored when legend() is called with no argument. \n",
      "\n"
     ]
    },
    {
     "data": {
      "image/png": "[encoded data removed]",
      "text/plain": [
       "<Figure size 576x288 with 2 Axes>"
      ]
     },
     "metadata": {},
     "output_type": "display_data"
    }
   ],
   "source": [
    "plt.style.use('jr')\n",
    "fig, ax = plt.subplots(1, 2, figsize=(8,4))\n",
    "\n",
    "xpt = np.arange(0, 8)\n",
    "X= sm.add_constant(xpt)\n",
    "fit_line, = ax[0].plot(xpt, mdf.predict(X), label='fitted \\n(y=-1.9458+0.2513x)', color='red')\n",
    "plt.legend()\n",
    "sns.scatterplot(data = edit_rates_window, x=\"log_atac_acc\", y=\"ratio_pad\", hue =\"lib\", ax=ax[0], s=10)\n",
    "ax[0].get_legend().remove()\n",
    "ax[0].set_ylabel(\"y = log(endo/reporter)\")\n",
    "ax[0].set_xlabel(\"x = log(acc+1)\")\n",
    "handles, labels = ax[0].get_legend_handles_labels()\n",
    "fig.legend(handles[1:], labels[1:], bbox_to_anchor=(0.3, -0.2), loc=\"upper center\", ncol=2, title=\"Sublibrary\")\n",
    "legend2 = fig.legend(handles=[fit_line], loc='upper center', bbox_to_anchor=(0.3, 0))\n",
    "\n",
    "ax[1].scatter(x.log_atac_acc, y-mdf.predict(x), s=1)\n",
    "ax[1].set_ylabel(\"Residual\")\n",
    "ax[1].set_xlabel(\"log(acc+1)\")\n",
    "ax[1].axhline(0, color=\"black\")\n",
    "ax[1].get_legend().remove()\n",
    "plt.tight_layout()\n",
    "fig.savefig(\"FigSX_accessibility_fit_residual_plot.pdf\")"
   ]
  }
 ],
 "metadata": {
  "kernelspec": {
   "display_name": "jy_anbe_py38",
   "language": "python",
   "name": "jy_anbe_py38"
  }
 },
 "nbformat": 4,
 "nbformat_minor": 4
}
